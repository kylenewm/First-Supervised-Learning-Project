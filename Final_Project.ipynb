{
  "nbformat": 4,
  "nbformat_minor": 0,
  "metadata": {
    "colab": {
      "name": "Final_Project.ipynb",
      "provenance": [],
      "collapsed_sections": [],
      "toc_visible": true
    },
    "kernelspec": {
      "name": "python3",
      "display_name": "Python 3"
    },
    "language_info": {
      "name": "python"
    },
    "accelerator": "GPU",
    "gpuClass": "standard"
  },
  "cells": [
    {
      "cell_type": "markdown",
      "source": [
        "## Goal and Data Description"
      ],
      "metadata": {
        "id": "7yFDL4S-jp6a"
      }
    },
    {
      "cell_type": "markdown",
      "source": [
        "The goal of this project is to predict if a client will subscribe to a term deposit (either yes or no). This is a binary classifcation problem to help banks market to clients they believe will subscribe to a term deposit in the future. The data consists of 41188 rows and 21 columns. The data itself was gathered from a direct marketing campaign of a Portuguese banking institution from May 2008 to November 2010. I attached below  the link to the official data set as well as the kaggle page where I had downloaded the data. There were four datasets I downloaded bank-additional-full.csv since it is the updated version of the data with more features and datapoints. I used similar wording to the website when describing the attribute information. \n",
        "\n",
        "https://archive.ics.uci.edu/ml/datasets/bank+marketing\n",
        "\n",
        "https://www.kaggle.com/datasets/alexkataev/bank-marketing-data-set\n",
        "\n",
        "[Moro et al., 2014] S. Moro, P. Cortez and P. Rita. A Data-Driven Approach to Predict the Success of Bank Telemarketing. Decision Support Systems, Elsevier, 62:22-31, June 2014\n",
        "\n",
        "\n",
        "**Banking Client Information:**\n",
        "- age: distance in years from DOB (numeric)\n",
        "- job: type of job (categorical)\n",
        "- marital: marital status of indiviudal (categorical)\n",
        "- education: furthest completed education (categorical)\n",
        "- housing: if client has housing loan (categorical)\n",
        "- loan: if client has personal loan (categorical)\n",
        "- default: if client has credit in default (categorical)\n",
        "\n",
        "**Last Contact from Current Marketing Campaign:**\n",
        "\n",
        "- contact: type of communicatiom (categorical)\n",
        "- month: most recent month contacted from year (categorical)\n",
        "- day_of_week: most recent day of week contacted (categorical)\n",
        "- duration: duration of most recent communication (numerical)\n",
        "\n",
        "**Other Campaign Related Attributes:** \n",
        "- campaign: number of times client contacted during campaign (numerical)\n",
        "- pdays: number of days since client was last contacted from a previous campaign( numerical)\n",
        "- previous: number of contacts of a client before current campaign (numerical) \n",
        "- poutcome: outcome of previous campaign (categorical)\n",
        "\n",
        "**Economic and Social Metrics for Context:**\n",
        "- emp.var.rate: employment variation rate - quarterly indicator (numeric)\n",
        "- cons.price.idx: consumer price index - monthly indicator (numeric)\n",
        "- cons.conf.idx: consumer confidence index - monthly indicator (numeric)\n",
        "- euribor3m: euribor 3 month rate - daily indicator (numeric)\n",
        "- nr.employed: number of employees - quarterly indicator (numeric)\n",
        "\n",
        "**Target Attrubute:**\n",
        "\n",
        "- y: if client subscribed to a term deposity (categorical)"
      ],
      "metadata": {
        "id": "OB86D6EEwt4O"
      }
    },
    {
      "cell_type": "markdown",
      "source": [
        ""
      ],
      "metadata": {
        "id": "34QbIUSBR9ou"
      }
    },
    {
      "cell_type": "markdown",
      "source": [
        "#Data Preprocessing\n"
      ],
      "metadata": {
        "id": "axGv4mENXfLB"
      }
    },
    {
      "cell_type": "markdown",
      "source": [
        "### Importing libaries:\n"
      ],
      "metadata": {
        "id": "NsnwGHr4kBQw"
      }
    },
    {
      "cell_type": "code",
      "execution_count": 177,
      "metadata": {
        "id": "LyPEMq9nLb16"
      },
      "outputs": [],
      "source": [
        "import pandas as pd\n",
        "import numpy as np\n",
        "import scipy.stats as stats\n",
        "import matplotlib.pyplot as plt\n",
        "import seaborn as sns\n",
        "from matplotlib.gridspec import GridSpec"
      ]
    },
    {
      "cell_type": "markdown",
      "source": [
        "Importing Dataset:\n"
      ],
      "metadata": {
        "id": "i7XeRMKZj4k1"
      }
    },
    {
      "cell_type": "code",
      "source": [
        "df = pd.read_csv(\"/bank-additional-full.csv\", delimiter = ';')\n"
      ],
      "metadata": {
        "id": "wpUgLXR3Lyxm"
      },
      "execution_count": 178,
      "outputs": []
    },
    {
      "cell_type": "code",
      "source": [
        "df.shape"
      ],
      "metadata": {
        "colab": {
          "base_uri": "https://localhost:8080/"
        },
        "id": "1o3_ZCR7PbIp",
        "outputId": "b6d7f70a-ca6d-4d24-d0c2-d44a84ca9a90"
      },
      "execution_count": 179,
      "outputs": [
        {
          "output_type": "execute_result",
          "data": {
            "text/plain": [
              "(41188, 21)"
            ]
          },
          "metadata": {},
          "execution_count": 179
        }
      ]
    },
    {
      "cell_type": "markdown",
      "source": [
        "### Data Cleaning and Exploratory Data Analysis\n"
      ],
      "metadata": {
        "id": "tnXP0l3xkMS1"
      }
    },
    {
      "cell_type": "code",
      "source": [
        "df.head()"
      ],
      "metadata": {
        "id": "MLyEJXKZMHD8",
        "colab": {
          "base_uri": "https://localhost:8080/",
          "height": 300
        },
        "outputId": "a37225a8-5556-4130-b5c5-5b66abec90ce"
      },
      "execution_count": 180,
      "outputs": [
        {
          "output_type": "execute_result",
          "data": {
            "text/plain": [
              "   age        job  marital    education  default housing loan    contact  \\\n",
              "0   56  housemaid  married     basic.4y       no      no   no  telephone   \n",
              "1   57   services  married  high.school  unknown      no   no  telephone   \n",
              "2   37   services  married  high.school       no     yes   no  telephone   \n",
              "3   40     admin.  married     basic.6y       no      no   no  telephone   \n",
              "4   56   services  married  high.school       no      no  yes  telephone   \n",
              "\n",
              "  month day_of_week  ...  campaign  pdays  previous     poutcome emp.var.rate  \\\n",
              "0   may         mon  ...         1    999         0  nonexistent          1.1   \n",
              "1   may         mon  ...         1    999         0  nonexistent          1.1   \n",
              "2   may         mon  ...         1    999         0  nonexistent          1.1   \n",
              "3   may         mon  ...         1    999         0  nonexistent          1.1   \n",
              "4   may         mon  ...         1    999         0  nonexistent          1.1   \n",
              "\n",
              "   cons.price.idx  cons.conf.idx  euribor3m  nr.employed   y  \n",
              "0          93.994          -36.4      4.857       5191.0  no  \n",
              "1          93.994          -36.4      4.857       5191.0  no  \n",
              "2          93.994          -36.4      4.857       5191.0  no  \n",
              "3          93.994          -36.4      4.857       5191.0  no  \n",
              "4          93.994          -36.4      4.857       5191.0  no  \n",
              "\n",
              "[5 rows x 21 columns]"
            ],
            "text/html": [
              "\n",
              "  <div id=\"df-7741fdff-51a0-430b-8e8b-1ca03cd3eb9d\">\n",
              "    <div class=\"colab-df-container\">\n",
              "      <div>\n",
              "<style scoped>\n",
              "    .dataframe tbody tr th:only-of-type {\n",
              "        vertical-align: middle;\n",
              "    }\n",
              "\n",
              "    .dataframe tbody tr th {\n",
              "        vertical-align: top;\n",
              "    }\n",
              "\n",
              "    .dataframe thead th {\n",
              "        text-align: right;\n",
              "    }\n",
              "</style>\n",
              "<table border=\"1\" class=\"dataframe\">\n",
              "  <thead>\n",
              "    <tr style=\"text-align: right;\">\n",
              "      <th></th>\n",
              "      <th>age</th>\n",
              "      <th>job</th>\n",
              "      <th>marital</th>\n",
              "      <th>education</th>\n",
              "      <th>default</th>\n",
              "      <th>housing</th>\n",
              "      <th>loan</th>\n",
              "      <th>contact</th>\n",
              "      <th>month</th>\n",
              "      <th>day_of_week</th>\n",
              "      <th>...</th>\n",
              "      <th>campaign</th>\n",
              "      <th>pdays</th>\n",
              "      <th>previous</th>\n",
              "      <th>poutcome</th>\n",
              "      <th>emp.var.rate</th>\n",
              "      <th>cons.price.idx</th>\n",
              "      <th>cons.conf.idx</th>\n",
              "      <th>euribor3m</th>\n",
              "      <th>nr.employed</th>\n",
              "      <th>y</th>\n",
              "    </tr>\n",
              "  </thead>\n",
              "  <tbody>\n",
              "    <tr>\n",
              "      <th>0</th>\n",
              "      <td>56</td>\n",
              "      <td>housemaid</td>\n",
              "      <td>married</td>\n",
              "      <td>basic.4y</td>\n",
              "      <td>no</td>\n",
              "      <td>no</td>\n",
              "      <td>no</td>\n",
              "      <td>telephone</td>\n",
              "      <td>may</td>\n",
              "      <td>mon</td>\n",
              "      <td>...</td>\n",
              "      <td>1</td>\n",
              "      <td>999</td>\n",
              "      <td>0</td>\n",
              "      <td>nonexistent</td>\n",
              "      <td>1.1</td>\n",
              "      <td>93.994</td>\n",
              "      <td>-36.4</td>\n",
              "      <td>4.857</td>\n",
              "      <td>5191.0</td>\n",
              "      <td>no</td>\n",
              "    </tr>\n",
              "    <tr>\n",
              "      <th>1</th>\n",
              "      <td>57</td>\n",
              "      <td>services</td>\n",
              "      <td>married</td>\n",
              "      <td>high.school</td>\n",
              "      <td>unknown</td>\n",
              "      <td>no</td>\n",
              "      <td>no</td>\n",
              "      <td>telephone</td>\n",
              "      <td>may</td>\n",
              "      <td>mon</td>\n",
              "      <td>...</td>\n",
              "      <td>1</td>\n",
              "      <td>999</td>\n",
              "      <td>0</td>\n",
              "      <td>nonexistent</td>\n",
              "      <td>1.1</td>\n",
              "      <td>93.994</td>\n",
              "      <td>-36.4</td>\n",
              "      <td>4.857</td>\n",
              "      <td>5191.0</td>\n",
              "      <td>no</td>\n",
              "    </tr>\n",
              "    <tr>\n",
              "      <th>2</th>\n",
              "      <td>37</td>\n",
              "      <td>services</td>\n",
              "      <td>married</td>\n",
              "      <td>high.school</td>\n",
              "      <td>no</td>\n",
              "      <td>yes</td>\n",
              "      <td>no</td>\n",
              "      <td>telephone</td>\n",
              "      <td>may</td>\n",
              "      <td>mon</td>\n",
              "      <td>...</td>\n",
              "      <td>1</td>\n",
              "      <td>999</td>\n",
              "      <td>0</td>\n",
              "      <td>nonexistent</td>\n",
              "      <td>1.1</td>\n",
              "      <td>93.994</td>\n",
              "      <td>-36.4</td>\n",
              "      <td>4.857</td>\n",
              "      <td>5191.0</td>\n",
              "      <td>no</td>\n",
              "    </tr>\n",
              "    <tr>\n",
              "      <th>3</th>\n",
              "      <td>40</td>\n",
              "      <td>admin.</td>\n",
              "      <td>married</td>\n",
              "      <td>basic.6y</td>\n",
              "      <td>no</td>\n",
              "      <td>no</td>\n",
              "      <td>no</td>\n",
              "      <td>telephone</td>\n",
              "      <td>may</td>\n",
              "      <td>mon</td>\n",
              "      <td>...</td>\n",
              "      <td>1</td>\n",
              "      <td>999</td>\n",
              "      <td>0</td>\n",
              "      <td>nonexistent</td>\n",
              "      <td>1.1</td>\n",
              "      <td>93.994</td>\n",
              "      <td>-36.4</td>\n",
              "      <td>4.857</td>\n",
              "      <td>5191.0</td>\n",
              "      <td>no</td>\n",
              "    </tr>\n",
              "    <tr>\n",
              "      <th>4</th>\n",
              "      <td>56</td>\n",
              "      <td>services</td>\n",
              "      <td>married</td>\n",
              "      <td>high.school</td>\n",
              "      <td>no</td>\n",
              "      <td>no</td>\n",
              "      <td>yes</td>\n",
              "      <td>telephone</td>\n",
              "      <td>may</td>\n",
              "      <td>mon</td>\n",
              "      <td>...</td>\n",
              "      <td>1</td>\n",
              "      <td>999</td>\n",
              "      <td>0</td>\n",
              "      <td>nonexistent</td>\n",
              "      <td>1.1</td>\n",
              "      <td>93.994</td>\n",
              "      <td>-36.4</td>\n",
              "      <td>4.857</td>\n",
              "      <td>5191.0</td>\n",
              "      <td>no</td>\n",
              "    </tr>\n",
              "  </tbody>\n",
              "</table>\n",
              "<p>5 rows × 21 columns</p>\n",
              "</div>\n",
              "      <button class=\"colab-df-convert\" onclick=\"convertToInteractive('df-7741fdff-51a0-430b-8e8b-1ca03cd3eb9d')\"\n",
              "              title=\"Convert this dataframe to an interactive table.\"\n",
              "              style=\"display:none;\">\n",
              "        \n",
              "  <svg xmlns=\"http://www.w3.org/2000/svg\" height=\"24px\"viewBox=\"0 0 24 24\"\n",
              "       width=\"24px\">\n",
              "    <path d=\"M0 0h24v24H0V0z\" fill=\"none\"/>\n",
              "    <path d=\"M18.56 5.44l.94 2.06.94-2.06 2.06-.94-2.06-.94-.94-2.06-.94 2.06-2.06.94zm-11 1L8.5 8.5l.94-2.06 2.06-.94-2.06-.94L8.5 2.5l-.94 2.06-2.06.94zm10 10l.94 2.06.94-2.06 2.06-.94-2.06-.94-.94-2.06-.94 2.06-2.06.94z\"/><path d=\"M17.41 7.96l-1.37-1.37c-.4-.4-.92-.59-1.43-.59-.52 0-1.04.2-1.43.59L10.3 9.45l-7.72 7.72c-.78.78-.78 2.05 0 2.83L4 21.41c.39.39.9.59 1.41.59.51 0 1.02-.2 1.41-.59l7.78-7.78 2.81-2.81c.8-.78.8-2.07 0-2.86zM5.41 20L4 18.59l7.72-7.72 1.47 1.35L5.41 20z\"/>\n",
              "  </svg>\n",
              "      </button>\n",
              "      \n",
              "  <style>\n",
              "    .colab-df-container {\n",
              "      display:flex;\n",
              "      flex-wrap:wrap;\n",
              "      gap: 12px;\n",
              "    }\n",
              "\n",
              "    .colab-df-convert {\n",
              "      background-color: #E8F0FE;\n",
              "      border: none;\n",
              "      border-radius: 50%;\n",
              "      cursor: pointer;\n",
              "      display: none;\n",
              "      fill: #1967D2;\n",
              "      height: 32px;\n",
              "      padding: 0 0 0 0;\n",
              "      width: 32px;\n",
              "    }\n",
              "\n",
              "    .colab-df-convert:hover {\n",
              "      background-color: #E2EBFA;\n",
              "      box-shadow: 0px 1px 2px rgba(60, 64, 67, 0.3), 0px 1px 3px 1px rgba(60, 64, 67, 0.15);\n",
              "      fill: #174EA6;\n",
              "    }\n",
              "\n",
              "    [theme=dark] .colab-df-convert {\n",
              "      background-color: #3B4455;\n",
              "      fill: #D2E3FC;\n",
              "    }\n",
              "\n",
              "    [theme=dark] .colab-df-convert:hover {\n",
              "      background-color: #434B5C;\n",
              "      box-shadow: 0px 1px 3px 1px rgba(0, 0, 0, 0.15);\n",
              "      filter: drop-shadow(0px 1px 2px rgba(0, 0, 0, 0.3));\n",
              "      fill: #FFFFFF;\n",
              "    }\n",
              "  </style>\n",
              "\n",
              "      <script>\n",
              "        const buttonEl =\n",
              "          document.querySelector('#df-7741fdff-51a0-430b-8e8b-1ca03cd3eb9d button.colab-df-convert');\n",
              "        buttonEl.style.display =\n",
              "          google.colab.kernel.accessAllowed ? 'block' : 'none';\n",
              "\n",
              "        async function convertToInteractive(key) {\n",
              "          const element = document.querySelector('#df-7741fdff-51a0-430b-8e8b-1ca03cd3eb9d');\n",
              "          const dataTable =\n",
              "            await google.colab.kernel.invokeFunction('convertToInteractive',\n",
              "                                                     [key], {});\n",
              "          if (!dataTable) return;\n",
              "\n",
              "          const docLinkHtml = 'Like what you see? Visit the ' +\n",
              "            '<a target=\"_blank\" href=https://colab.research.google.com/notebooks/data_table.ipynb>data table notebook</a>'\n",
              "            + ' to learn more about interactive tables.';\n",
              "          element.innerHTML = '';\n",
              "          dataTable['output_type'] = 'display_data';\n",
              "          await google.colab.output.renderOutput(dataTable, element);\n",
              "          const docLink = document.createElement('div');\n",
              "          docLink.innerHTML = docLinkHtml;\n",
              "          element.appendChild(docLink);\n",
              "        }\n",
              "      </script>\n",
              "    </div>\n",
              "  </div>\n",
              "  "
            ]
          },
          "metadata": {},
          "execution_count": 180
        }
      ]
    },
    {
      "cell_type": "markdown",
      "source": [
        "The information about the data set on kaggle states \" this input should only be included for benchmark purposes and should be discarded if the intention is to have a realistic predictive model\" for the duration variable so we will drop this column."
      ],
      "metadata": {
        "id": "CclxpQULYEMn"
      }
    },
    {
      "cell_type": "code",
      "source": [
        "df = df.drop(['duration'], axis = 1)\n"
      ],
      "metadata": {
        "id": "g0yJUeYWYGyu"
      },
      "execution_count": 181,
      "outputs": []
    },
    {
      "cell_type": "markdown",
      "source": [
        "Now I want to do is check for null values so we can find out whether I need to impute any columns. "
      ],
      "metadata": {
        "id": "K5p2izLQdSUZ"
      }
    },
    {
      "cell_type": "code",
      "source": [
        "df.info(null_counts= True)"
      ],
      "metadata": {
        "id": "3p8CtIJ9Wx7G",
        "colab": {
          "base_uri": "https://localhost:8080/"
        },
        "outputId": "ccca0ac3-8c39-49e6-ae19-0925a586aeba"
      },
      "execution_count": 182,
      "outputs": [
        {
          "output_type": "stream",
          "name": "stdout",
          "text": [
            "<class 'pandas.core.frame.DataFrame'>\n",
            "RangeIndex: 41188 entries, 0 to 41187\n",
            "Data columns (total 20 columns):\n",
            " #   Column          Non-Null Count  Dtype  \n",
            "---  ------          --------------  -----  \n",
            " 0   age             41188 non-null  int64  \n",
            " 1   job             41188 non-null  object \n",
            " 2   marital         41188 non-null  object \n",
            " 3   education       41188 non-null  object \n",
            " 4   default         41188 non-null  object \n",
            " 5   housing         41188 non-null  object \n",
            " 6   loan            41188 non-null  object \n",
            " 7   contact         41188 non-null  object \n",
            " 8   month           41188 non-null  object \n",
            " 9   day_of_week     41188 non-null  object \n",
            " 10  campaign        41188 non-null  int64  \n",
            " 11  pdays           41188 non-null  int64  \n",
            " 12  previous        41188 non-null  int64  \n",
            " 13  poutcome        41188 non-null  object \n",
            " 14  emp.var.rate    41188 non-null  float64\n",
            " 15  cons.price.idx  41188 non-null  float64\n",
            " 16  cons.conf.idx   41188 non-null  float64\n",
            " 17  euribor3m       41188 non-null  float64\n",
            " 18  nr.employed     41188 non-null  float64\n",
            " 19  y               41188 non-null  object \n",
            "dtypes: float64(5), int64(4), object(11)\n",
            "memory usage: 6.3+ MB\n"
          ]
        },
        {
          "output_type": "stream",
          "name": "stderr",
          "text": [
            "/usr/local/lib/python3.7/dist-packages/ipykernel_launcher.py:1: FutureWarning: null_counts is deprecated. Use show_counts instead\n",
            "  \"\"\"Entry point for launching an IPython kernel.\n"
          ]
        }
      ]
    },
    {
      "cell_type": "markdown",
      "source": [
        "We want to gain information about all of the different categorical features and their levels to see if there are other types of null values that aren't native to python."
      ],
      "metadata": {
        "id": "EmrqkJbY67ov"
      }
    },
    {
      "cell_type": "code",
      "source": [
        "for label in df.columns:\n",
        "  if df[label].values.dtype == object:\n",
        "    print('\\033[91m' + label + '\\033[0m', df[label].unique())"
      ],
      "metadata": {
        "id": "AbqsIj-ti1h6",
        "colab": {
          "base_uri": "https://localhost:8080/"
        },
        "outputId": "babf86b0-a6f0-4e57-a364-f1c814ffbd13"
      },
      "execution_count": 183,
      "outputs": [
        {
          "output_type": "stream",
          "name": "stdout",
          "text": [
            "\u001b[91mjob\u001b[0m ['housemaid' 'services' 'admin.' 'blue-collar' 'technician' 'retired'\n",
            " 'management' 'unemployed' 'self-employed' 'unknown' 'entrepreneur'\n",
            " 'student']\n",
            "\u001b[91mmarital\u001b[0m ['married' 'single' 'divorced' 'unknown']\n",
            "\u001b[91meducation\u001b[0m ['basic.4y' 'high.school' 'basic.6y' 'basic.9y' 'professional.course'\n",
            " 'unknown' 'university.degree' 'illiterate']\n",
            "\u001b[91mdefault\u001b[0m ['no' 'unknown' 'yes']\n",
            "\u001b[91mhousing\u001b[0m ['no' 'yes' 'unknown']\n",
            "\u001b[91mloan\u001b[0m ['no' 'yes' 'unknown']\n",
            "\u001b[91mcontact\u001b[0m ['telephone' 'cellular']\n",
            "\u001b[91mmonth\u001b[0m ['may' 'jun' 'jul' 'aug' 'oct' 'nov' 'dec' 'mar' 'apr' 'sep']\n",
            "\u001b[91mday_of_week\u001b[0m ['mon' 'tue' 'wed' 'thu' 'fri']\n",
            "\u001b[91mpoutcome\u001b[0m ['nonexistent' 'failure' 'success']\n",
            "\u001b[91my\u001b[0m ['no' 'yes']\n"
          ]
        }
      ]
    },
    {
      "cell_type": "markdown",
      "source": [
        "There appears to be a couple of strings used to represent null values. These include 'unknown' and 'non-existent'. We will also check for null values for the integrs with other potential fillers that are commonly used to represent null values."
      ],
      "metadata": {
        "id": "pvESJyThkDRX"
      }
    },
    {
      "cell_type": "code",
      "source": [
        "potential_nulls = [np.nan, None, [], {}, 'NaN', 'Null','NULL','None','NA','?','-', '.','', ' ', '   ', 'unknown', 'nonexistent']\n",
        "for col_label in df.columns:\n",
        "    all_nulls = np.array([x in potential_nulls[:] for x in df[col_label]])\n",
        "    print('\\033[1m' + col_label + '\\033[0m', '\\033[91m' + str(all_nulls.sum()) + '\\033[0m') if all_nulls.sum() > 0 else print(col_label, all_nulls.sum())"
      ],
      "metadata": {
        "id": "EdL2Mt5fXI6h",
        "colab": {
          "base_uri": "https://localhost:8080/"
        },
        "outputId": "25b130e2-1fb3-4ef1-eb82-92715d0021ba"
      },
      "execution_count": 184,
      "outputs": [
        {
          "output_type": "stream",
          "name": "stdout",
          "text": [
            "age 0\n",
            "\u001b[1mjob\u001b[0m \u001b[91m330\u001b[0m\n",
            "\u001b[1mmarital\u001b[0m \u001b[91m80\u001b[0m\n",
            "\u001b[1meducation\u001b[0m \u001b[91m1731\u001b[0m\n",
            "\u001b[1mdefault\u001b[0m \u001b[91m8597\u001b[0m\n",
            "\u001b[1mhousing\u001b[0m \u001b[91m990\u001b[0m\n",
            "\u001b[1mloan\u001b[0m \u001b[91m990\u001b[0m\n",
            "contact 0\n",
            "month 0\n",
            "day_of_week 0\n",
            "campaign 0\n",
            "pdays 0\n",
            "previous 0\n",
            "\u001b[1mpoutcome\u001b[0m \u001b[91m35563\u001b[0m\n",
            "emp.var.rate 0\n",
            "cons.price.idx 0\n",
            "cons.conf.idx 0\n",
            "euribor3m 0\n",
            "nr.employed 0\n",
            "y 0\n"
          ]
        }
      ]
    },
    {
      "cell_type": "code",
      "source": [
        "fig = plt.figure(figsize= (15,10), constrained_layout = True)\n",
        "\n",
        "gs = GridSpec(6, 10, figure=fig)\n",
        "\n",
        "ax1 = fig.add_subplot(gs[0:2, : -4])\n",
        "ax1.hist(df['job'], color = \"red\", edgecolor= 'black', linewidth = 2) \n",
        "ax1.set_title(\"Job\")\n",
        "ax1.tick_params(axis='x', labelrotation=45)\n",
        "# identical to ax1 = plt.subplot(gs.new_subplotspec((0, 0), colspan=3))\n",
        "ax2 = fig.add_subplot(gs[2:4, :-4])\n",
        "ax2.hist(df['education'], color = \"red\", edgecolor= 'black', linewidth = 2) \n",
        "ax2.set_title(\"Education\")\n",
        "ax3 = fig.add_subplot(gs[0:2, -4:])\n",
        "ax3.hist(df['marital'], color = \"red\") \n",
        "ax3.set_title(\"Marital Status\")\n",
        "ax4 = fig.add_subplot(gs[4:6, 0:3])\n",
        "ax4.hist(df['housing'], color = \"red\") \n",
        "ax4.set_title(\"Housing\")\n",
        "ax5 = fig.add_subplot(gs[4:6, 3:6])\n",
        "ax5.hist(df['loan'], color = \"red\") \n",
        "ax5.set_title(\"Loan\")\n",
        "fig.suptitle(\"Features With At Least 1 Unknown or Nonexisten Value\")\n",
        "ax6 = fig.add_subplot(gs[4:6, 6:11])\n",
        "ax6.hist(df['default'], color = \"red\") \n",
        "ax6.set_title(\"Default\")\n",
        "ax6 = fig.add_subplot(gs[2:4, -4:])\n",
        "ax6.hist(df['poutcome'], color = \"red\") \n",
        "ax6.set_title(\"Poutcome\")\n",
        "plt.show()\n",
        "\n",
        "\n",
        "\n",
        "\n",
        "plt.show"
      ],
      "metadata": {
        "colab": {
          "base_uri": "https://localhost:8080/",
          "height": 764
        },
        "id": "xowfg8EuZpzW",
        "outputId": "94d40989-b48d-4443-d4e8-ef5a68faa7d6"
      },
      "execution_count": 185,
      "outputs": [
        {
          "output_type": "display_data",
          "data": {
            "text/plain": [
              "<Figure size 1080x720 with 7 Axes>"
            ],
            "image/png": "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\n"
          },
          "metadata": {
            "needs_background": "light"
          }
        },
        {
          "output_type": "execute_result",
          "data": {
            "text/plain": [
              "<function matplotlib.pyplot.show>"
            ]
          },
          "metadata": {},
          "execution_count": 185
        }
      ]
    },
    {
      "cell_type": "markdown",
      "source": [
        "There is a lot to unpack here with the columns that have either an unknown or missing value. The feauture that appears to have an alarming number of unkown or nonexistent values is Poutcome. Poutcome's nonexistent values signify that they were not in a direct marketed campaign by the bank previously. Therefore the nonexistent value is important so we will not throw the column or change the column values. Furthermore, we should look for pattens involving the unkown values with the other 6 features. Why did the bank not get a response from wheter or not the client has taken a housing or personal loan? Why would a client not respond to whether or not they had credit in default? One possible theory is that the client is afraid to disclose this information because they have taken out loans or have credit in default. For the unknown values in the education column, we could hypothesize that the individual felt embarassed or uncomfortable sharing ther education level. For the job column, they may have been recently layed off or maybe don't like their current job. As a result we will not remove any of these values for now because they may have predictive power in regards to our target variable. "
      ],
      "metadata": {
        "id": "OU4Mn22Lol1J"
      }
    },
    {
      "cell_type": "code",
      "source": [
        "df.describe()"
      ],
      "metadata": {
        "id": "g_jkXVpdrCIu",
        "colab": {
          "base_uri": "https://localhost:8080/",
          "height": 300
        },
        "outputId": "c16c8832-0863-4634-c129-06ba812f6e0f"
      },
      "execution_count": 186,
      "outputs": [
        {
          "output_type": "execute_result",
          "data": {
            "text/plain": [
              "               age      campaign         pdays      previous  emp.var.rate  \\\n",
              "count  41188.00000  41188.000000  41188.000000  41188.000000  41188.000000   \n",
              "mean      40.02406      2.567593    962.475454      0.172963      0.081886   \n",
              "std       10.42125      2.770014    186.910907      0.494901      1.570960   \n",
              "min       17.00000      1.000000      0.000000      0.000000     -3.400000   \n",
              "25%       32.00000      1.000000    999.000000      0.000000     -1.800000   \n",
              "50%       38.00000      2.000000    999.000000      0.000000      1.100000   \n",
              "75%       47.00000      3.000000    999.000000      0.000000      1.400000   \n",
              "max       98.00000     56.000000    999.000000      7.000000      1.400000   \n",
              "\n",
              "       cons.price.idx  cons.conf.idx     euribor3m   nr.employed  \n",
              "count    41188.000000   41188.000000  41188.000000  41188.000000  \n",
              "mean        93.575664     -40.502600      3.621291   5167.035911  \n",
              "std          0.578840       4.628198      1.734447     72.251528  \n",
              "min         92.201000     -50.800000      0.634000   4963.600000  \n",
              "25%         93.075000     -42.700000      1.344000   5099.100000  \n",
              "50%         93.749000     -41.800000      4.857000   5191.000000  \n",
              "75%         93.994000     -36.400000      4.961000   5228.100000  \n",
              "max         94.767000     -26.900000      5.045000   5228.100000  "
            ],
            "text/html": [
              "\n",
              "  <div id=\"df-d2645751-4fc1-4007-8c53-6f08a522f7d1\">\n",
              "    <div class=\"colab-df-container\">\n",
              "      <div>\n",
              "<style scoped>\n",
              "    .dataframe tbody tr th:only-of-type {\n",
              "        vertical-align: middle;\n",
              "    }\n",
              "\n",
              "    .dataframe tbody tr th {\n",
              "        vertical-align: top;\n",
              "    }\n",
              "\n",
              "    .dataframe thead th {\n",
              "        text-align: right;\n",
              "    }\n",
              "</style>\n",
              "<table border=\"1\" class=\"dataframe\">\n",
              "  <thead>\n",
              "    <tr style=\"text-align: right;\">\n",
              "      <th></th>\n",
              "      <th>age</th>\n",
              "      <th>campaign</th>\n",
              "      <th>pdays</th>\n",
              "      <th>previous</th>\n",
              "      <th>emp.var.rate</th>\n",
              "      <th>cons.price.idx</th>\n",
              "      <th>cons.conf.idx</th>\n",
              "      <th>euribor3m</th>\n",
              "      <th>nr.employed</th>\n",
              "    </tr>\n",
              "  </thead>\n",
              "  <tbody>\n",
              "    <tr>\n",
              "      <th>count</th>\n",
              "      <td>41188.00000</td>\n",
              "      <td>41188.000000</td>\n",
              "      <td>41188.000000</td>\n",
              "      <td>41188.000000</td>\n",
              "      <td>41188.000000</td>\n",
              "      <td>41188.000000</td>\n",
              "      <td>41188.000000</td>\n",
              "      <td>41188.000000</td>\n",
              "      <td>41188.000000</td>\n",
              "    </tr>\n",
              "    <tr>\n",
              "      <th>mean</th>\n",
              "      <td>40.02406</td>\n",
              "      <td>2.567593</td>\n",
              "      <td>962.475454</td>\n",
              "      <td>0.172963</td>\n",
              "      <td>0.081886</td>\n",
              "      <td>93.575664</td>\n",
              "      <td>-40.502600</td>\n",
              "      <td>3.621291</td>\n",
              "      <td>5167.035911</td>\n",
              "    </tr>\n",
              "    <tr>\n",
              "      <th>std</th>\n",
              "      <td>10.42125</td>\n",
              "      <td>2.770014</td>\n",
              "      <td>186.910907</td>\n",
              "      <td>0.494901</td>\n",
              "      <td>1.570960</td>\n",
              "      <td>0.578840</td>\n",
              "      <td>4.628198</td>\n",
              "      <td>1.734447</td>\n",
              "      <td>72.251528</td>\n",
              "    </tr>\n",
              "    <tr>\n",
              "      <th>min</th>\n",
              "      <td>17.00000</td>\n",
              "      <td>1.000000</td>\n",
              "      <td>0.000000</td>\n",
              "      <td>0.000000</td>\n",
              "      <td>-3.400000</td>\n",
              "      <td>92.201000</td>\n",
              "      <td>-50.800000</td>\n",
              "      <td>0.634000</td>\n",
              "      <td>4963.600000</td>\n",
              "    </tr>\n",
              "    <tr>\n",
              "      <th>25%</th>\n",
              "      <td>32.00000</td>\n",
              "      <td>1.000000</td>\n",
              "      <td>999.000000</td>\n",
              "      <td>0.000000</td>\n",
              "      <td>-1.800000</td>\n",
              "      <td>93.075000</td>\n",
              "      <td>-42.700000</td>\n",
              "      <td>1.344000</td>\n",
              "      <td>5099.100000</td>\n",
              "    </tr>\n",
              "    <tr>\n",
              "      <th>50%</th>\n",
              "      <td>38.00000</td>\n",
              "      <td>2.000000</td>\n",
              "      <td>999.000000</td>\n",
              "      <td>0.000000</td>\n",
              "      <td>1.100000</td>\n",
              "      <td>93.749000</td>\n",
              "      <td>-41.800000</td>\n",
              "      <td>4.857000</td>\n",
              "      <td>5191.000000</td>\n",
              "    </tr>\n",
              "    <tr>\n",
              "      <th>75%</th>\n",
              "      <td>47.00000</td>\n",
              "      <td>3.000000</td>\n",
              "      <td>999.000000</td>\n",
              "      <td>0.000000</td>\n",
              "      <td>1.400000</td>\n",
              "      <td>93.994000</td>\n",
              "      <td>-36.400000</td>\n",
              "      <td>4.961000</td>\n",
              "      <td>5228.100000</td>\n",
              "    </tr>\n",
              "    <tr>\n",
              "      <th>max</th>\n",
              "      <td>98.00000</td>\n",
              "      <td>56.000000</td>\n",
              "      <td>999.000000</td>\n",
              "      <td>7.000000</td>\n",
              "      <td>1.400000</td>\n",
              "      <td>94.767000</td>\n",
              "      <td>-26.900000</td>\n",
              "      <td>5.045000</td>\n",
              "      <td>5228.100000</td>\n",
              "    </tr>\n",
              "  </tbody>\n",
              "</table>\n",
              "</div>\n",
              "      <button class=\"colab-df-convert\" onclick=\"convertToInteractive('df-d2645751-4fc1-4007-8c53-6f08a522f7d1')\"\n",
              "              title=\"Convert this dataframe to an interactive table.\"\n",
              "              style=\"display:none;\">\n",
              "        \n",
              "  <svg xmlns=\"http://www.w3.org/2000/svg\" height=\"24px\"viewBox=\"0 0 24 24\"\n",
              "       width=\"24px\">\n",
              "    <path d=\"M0 0h24v24H0V0z\" fill=\"none\"/>\n",
              "    <path d=\"M18.56 5.44l.94 2.06.94-2.06 2.06-.94-2.06-.94-.94-2.06-.94 2.06-2.06.94zm-11 1L8.5 8.5l.94-2.06 2.06-.94-2.06-.94L8.5 2.5l-.94 2.06-2.06.94zm10 10l.94 2.06.94-2.06 2.06-.94-2.06-.94-.94-2.06-.94 2.06-2.06.94z\"/><path d=\"M17.41 7.96l-1.37-1.37c-.4-.4-.92-.59-1.43-.59-.52 0-1.04.2-1.43.59L10.3 9.45l-7.72 7.72c-.78.78-.78 2.05 0 2.83L4 21.41c.39.39.9.59 1.41.59.51 0 1.02-.2 1.41-.59l7.78-7.78 2.81-2.81c.8-.78.8-2.07 0-2.86zM5.41 20L4 18.59l7.72-7.72 1.47 1.35L5.41 20z\"/>\n",
              "  </svg>\n",
              "      </button>\n",
              "      \n",
              "  <style>\n",
              "    .colab-df-container {\n",
              "      display:flex;\n",
              "      flex-wrap:wrap;\n",
              "      gap: 12px;\n",
              "    }\n",
              "\n",
              "    .colab-df-convert {\n",
              "      background-color: #E8F0FE;\n",
              "      border: none;\n",
              "      border-radius: 50%;\n",
              "      cursor: pointer;\n",
              "      display: none;\n",
              "      fill: #1967D2;\n",
              "      height: 32px;\n",
              "      padding: 0 0 0 0;\n",
              "      width: 32px;\n",
              "    }\n",
              "\n",
              "    .colab-df-convert:hover {\n",
              "      background-color: #E2EBFA;\n",
              "      box-shadow: 0px 1px 2px rgba(60, 64, 67, 0.3), 0px 1px 3px 1px rgba(60, 64, 67, 0.15);\n",
              "      fill: #174EA6;\n",
              "    }\n",
              "\n",
              "    [theme=dark] .colab-df-convert {\n",
              "      background-color: #3B4455;\n",
              "      fill: #D2E3FC;\n",
              "    }\n",
              "\n",
              "    [theme=dark] .colab-df-convert:hover {\n",
              "      background-color: #434B5C;\n",
              "      box-shadow: 0px 1px 3px 1px rgba(0, 0, 0, 0.15);\n",
              "      filter: drop-shadow(0px 1px 2px rgba(0, 0, 0, 0.3));\n",
              "      fill: #FFFFFF;\n",
              "    }\n",
              "  </style>\n",
              "\n",
              "      <script>\n",
              "        const buttonEl =\n",
              "          document.querySelector('#df-d2645751-4fc1-4007-8c53-6f08a522f7d1 button.colab-df-convert');\n",
              "        buttonEl.style.display =\n",
              "          google.colab.kernel.accessAllowed ? 'block' : 'none';\n",
              "\n",
              "        async function convertToInteractive(key) {\n",
              "          const element = document.querySelector('#df-d2645751-4fc1-4007-8c53-6f08a522f7d1');\n",
              "          const dataTable =\n",
              "            await google.colab.kernel.invokeFunction('convertToInteractive',\n",
              "                                                     [key], {});\n",
              "          if (!dataTable) return;\n",
              "\n",
              "          const docLinkHtml = 'Like what you see? Visit the ' +\n",
              "            '<a target=\"_blank\" href=https://colab.research.google.com/notebooks/data_table.ipynb>data table notebook</a>'\n",
              "            + ' to learn more about interactive tables.';\n",
              "          element.innerHTML = '';\n",
              "          dataTable['output_type'] = 'display_data';\n",
              "          await google.colab.output.renderOutput(dataTable, element);\n",
              "          const docLink = document.createElement('div');\n",
              "          docLink.innerHTML = docLinkHtml;\n",
              "          element.appendChild(docLink);\n",
              "        }\n",
              "      </script>\n",
              "    </div>\n",
              "  </div>\n",
              "  "
            ]
          },
          "metadata": {},
          "execution_count": 186
        }
      ]
    },
    {
      "cell_type": "code",
      "source": [
        ""
      ],
      "metadata": {
        "id": "97-QJQ_ChkwL"
      },
      "execution_count": 186,
      "outputs": []
    },
    {
      "cell_type": "markdown",
      "source": [
        "Upon initial analysis of the numeric variables there does not appear to be anything appearing out of the ordinary besides pdays, which has many values at 999. This value means that the client was not previously contacted. That make previous zero as well as poutcome nonexistent. "
      ],
      "metadata": {
        "id": "ErTqJ6_krsYT"
      }
    },
    {
      "cell_type": "code",
      "source": [
        "df['pdays'].value_counts()"
      ],
      "metadata": {
        "colab": {
          "base_uri": "https://localhost:8080/"
        },
        "id": "V7-YvGUruPFG",
        "outputId": "8de30324-c9ee-4709-8fe6-cb58ca34bc5d"
      },
      "execution_count": 187,
      "outputs": [
        {
          "output_type": "execute_result",
          "data": {
            "text/plain": [
              "999    39673\n",
              "3        439\n",
              "6        412\n",
              "4        118\n",
              "9         64\n",
              "2         61\n",
              "7         60\n",
              "12        58\n",
              "10        52\n",
              "5         46\n",
              "13        36\n",
              "11        28\n",
              "1         26\n",
              "15        24\n",
              "14        20\n",
              "8         18\n",
              "0         15\n",
              "16        11\n",
              "17         8\n",
              "18         7\n",
              "22         3\n",
              "19         3\n",
              "21         2\n",
              "25         1\n",
              "26         1\n",
              "27         1\n",
              "20         1\n",
              "Name: pdays, dtype: int64"
            ]
          },
          "metadata": {},
          "execution_count": 187
        }
      ]
    },
    {
      "cell_type": "markdown",
      "source": [
        "Because of all of these 999 values and its reduncancy with previous and poutcome, I have decided to drop the column"
      ],
      "metadata": {
        "id": "vgW4VdnyujOB"
      }
    },
    {
      "cell_type": "code",
      "source": [
        ""
      ],
      "metadata": {
        "id": "rpvW9QKU3TWH"
      },
      "execution_count": 187,
      "outputs": []
    },
    {
      "cell_type": "code",
      "source": [
        "df = df.drop(['pdays'], axis = 1)"
      ],
      "metadata": {
        "id": "JWK0H3oQvOIh"
      },
      "execution_count": 188,
      "outputs": []
    },
    {
      "cell_type": "markdown",
      "source": [
        ""
      ],
      "metadata": {
        "id": "eL6nzy7X3Q2f"
      }
    },
    {
      "cell_type": "code",
      "source": [
        "df['previous'].value_counts()"
      ],
      "metadata": {
        "colab": {
          "base_uri": "https://localhost:8080/"
        },
        "id": "N4c_234ivUmS",
        "outputId": "08955b29-7c65-42c6-c7ae-3b0d4e2a4255"
      },
      "execution_count": 189,
      "outputs": [
        {
          "output_type": "execute_result",
          "data": {
            "text/plain": [
              "0    35563\n",
              "1     4561\n",
              "2      754\n",
              "3      216\n",
              "4       70\n",
              "5       18\n",
              "6        5\n",
              "7        1\n",
              "Name: previous, dtype: int64"
            ]
          },
          "metadata": {},
          "execution_count": 189
        }
      ]
    },
    {
      "cell_type": "markdown",
      "source": [
        "The 0s in 'previous' still make logical sense because they were never contacted prior so I have decided to keep this column for now. "
      ],
      "metadata": {
        "id": "rMXnhuSJvpFk"
      }
    },
    {
      "cell_type": "markdown",
      "source": [
        "I was interested to see the distribution of the different categorical variables. We can see that a few have very lopsided distributions. 'Y' contatins mostly no values.The Poutcome coolumn contains mostly nonexistent values. The month column has over half of their values concentrated in may, jul, aug, jun, nov. Default has only 3 yes values. Other columns appear to have a more even distribution between their levels. "
      ],
      "metadata": {
        "id": "kDncZIyvkyzf"
      }
    },
    {
      "cell_type": "code",
      "source": [
        "from tabulate import tabulate\n",
        "for label in df.columns:\n",
        "  if df[label].dtype == 'object':\n",
        "    print(tabulate(\" \", [df[label].value_counts()]))\n"
      ],
      "metadata": {
        "colab": {
          "base_uri": "https://localhost:8080/"
        },
        "id": "rvKPMzZ9syVY",
        "outputId": "1a1f6d0f-ea5a-4920-8b50-fd0459bcfd99"
      },
      "execution_count": 190,
      "outputs": [
        {
          "output_type": "stream",
          "name": "stdout",
          "text": [
            "admin.           10422\n",
            "blue-collar       9254\n",
            "technician        6743\n",
            "services          3969\n",
            "management        2924\n",
            "retired           1720\n",
            "entrepreneur      1456\n",
            "self-employed     1421\n",
            "housemaid         1060\n",
            "unemployed        1014\n",
            "student            875\n",
            "unknown            330\n",
            "Name: job, dtype: int64\n",
            "-------------------------\n",
            "married     24928\n",
            "single      11568\n",
            "divorced     4612\n",
            "unknown        80\n",
            "Name: marital, dtype: int64\n",
            "-----------------------------\n",
            "university.degree      12168\n",
            "high.school             9515\n",
            "basic.9y                6045\n",
            "professional.course     5243\n",
            "basic.4y                4176\n",
            "basic.6y                2292\n",
            "unknown                 1731\n",
            "illiterate                18\n",
            "Name: education, dtype: int64\n",
            "-------------------------------\n",
            "no         32588\n",
            "unknown     8597\n",
            "yes            3\n",
            "Name: default, dtype: int64\n",
            "-----------------------------\n",
            "yes        21576\n",
            "no         18622\n",
            "unknown      990\n",
            "Name: housing, dtype: int64\n",
            "-----------------------------\n",
            "no         33950\n",
            "yes         6248\n",
            "unknown      990\n",
            "Name: loan, dtype: int64\n",
            "--------------------------\n",
            "cellular     26144\n",
            "telephone    15044\n",
            "Name: contact, dtype: int64\n",
            "-----------------------------\n",
            "may    13769\n",
            "jul     7174\n",
            "aug     6178\n",
            "jun     5318\n",
            "nov     4101\n",
            "apr     2632\n",
            "oct      718\n",
            "sep      570\n",
            "mar      546\n",
            "dec      182\n",
            "Name: month, dtype: int64\n",
            "---------------------------\n",
            "thu    8623\n",
            "mon    8514\n",
            "wed    8134\n",
            "tue    8090\n",
            "fri    7827\n",
            "Name: day_of_week, dtype: int64\n",
            "---------------------------------\n",
            "nonexistent    35563\n",
            "failure         4252\n",
            "success         1373\n",
            "Name: poutcome, dtype: int64\n",
            "------------------------------\n",
            "no     36548\n",
            "yes     4640\n",
            "Name: y, dtype: int64\n",
            "-----------------------\n"
          ]
        }
      ]
    },
    {
      "cell_type": "markdown",
      "source": [
        "We can start off by looking for outlier within the data among the numerical values."
      ],
      "metadata": {
        "id": "q-MpgdlEwmY_"
      }
    },
    {
      "cell_type": "code",
      "source": [
        "potential_impute = ['age',\t'campaign',\t'previous',\t'emp.var.rate',\t'cons.price.idx',\t'cons.conf.idx',\t'euribor3m',\t'nr.employed']\n",
        "for col_label in potential_impute:\n",
        "    plt.figure(figsize=(8,3))\n",
        "    plt.boxplot(x = df[col_label])\n",
        "    plt.title(col_label)\n",
        "    plt.show()"
      ],
      "metadata": {
        "id": "uyDo2V3TCjBp",
        "colab": {
          "base_uri": "https://localhost:8080/",
          "height": 1000
        },
        "outputId": "69b0831b-d01b-4cd0-f016-c9c02c65ab39"
      },
      "execution_count": 191,
      "outputs": [
        {
          "output_type": "display_data",
          "data": {
            "text/plain": [
              "<Figure size 576x216 with 1 Axes>"
            ],
            "image/png": "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\n"
          },
          "metadata": {
            "needs_background": "light"
          }
        },
        {
          "output_type": "display_data",
          "data": {
            "text/plain": [
              "<Figure size 576x216 with 1 Axes>"
            ],
            "image/png": "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\n"
          },
          "metadata": {
            "needs_background": "light"
          }
        },
        {
          "output_type": "display_data",
          "data": {
            "text/plain": [
              "<Figure size 576x216 with 1 Axes>"
            ],
            "image/png": "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\n"
          },
          "metadata": {
            "needs_background": "light"
          }
        },
        {
          "output_type": "display_data",
          "data": {
            "text/plain": [
              "<Figure size 576x216 with 1 Axes>"
            ],
            "image/png": "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\n"
          },
          "metadata": {
            "needs_background": "light"
          }
        },
        {
          "output_type": "display_data",
          "data": {
            "text/plain": [
              "<Figure size 576x216 with 1 Axes>"
            ],
            "image/png": "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\n"
          },
          "metadata": {
            "needs_background": "light"
          }
        },
        {
          "output_type": "display_data",
          "data": {
            "text/plain": [
              "<Figure size 576x216 with 1 Axes>"
            ],
            "image/png": "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\n"
          },
          "metadata": {
            "needs_background": "light"
          }
        },
        {
          "output_type": "display_data",
          "data": {
            "text/plain": [
              "<Figure size 576x216 with 1 Axes>"
            ],
            "image/png": "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\n"
          },
          "metadata": {
            "needs_background": "light"
          }
        },
        {
          "output_type": "display_data",
          "data": {
            "text/plain": [
              "<Figure size 576x216 with 1 Axes>"
            ],
            "image/png": "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\n"
          },
          "metadata": {
            "needs_background": "light"
          }
        }
      ]
    },
    {
      "cell_type": "code",
      "source": [
        ""
      ],
      "metadata": {
        "id": "0iiElVSssgzc"
      },
      "execution_count": 191,
      "outputs": []
    },
    {
      "cell_type": "markdown",
      "source": [
        "'Age', 'campaign', and 'previous' have many outliers. Before deciding to impute or remove them we should check for their importance as well as the underlying distributions. 'Previous' has many outliers because the majority of their values are 0. "
      ],
      "metadata": {
        "id": "MQmkyBJyZDvW"
      }
    },
    {
      "cell_type": "code",
      "source": [
        "df.age.plot(kind = 'kde')\n"
      ],
      "metadata": {
        "id": "YvwCr2aQkmnA",
        "colab": {
          "base_uri": "https://localhost:8080/",
          "height": 284
        },
        "outputId": "9cfec773-a240-440e-9d5c-a826b4492b6c"
      },
      "execution_count": 192,
      "outputs": [
        {
          "output_type": "execute_result",
          "data": {
            "text/plain": [
              "<matplotlib.axes._subplots.AxesSubplot at 0x7fd300d66310>"
            ]
          },
          "metadata": {},
          "execution_count": 192
        },
        {
          "output_type": "display_data",
          "data": {
            "text/plain": [
              "<Figure size 432x288 with 1 Axes>"
            ],
            "image/png": "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\n"
          },
          "metadata": {
            "needs_background": "light"
          }
        }
      ]
    },
    {
      "cell_type": "markdown",
      "source": [
        "From the plot above age has a slightly left skewed distribution so well leave it alone. "
      ],
      "metadata": {
        "id": "FMQamW0UzK62"
      }
    },
    {
      "cell_type": "code",
      "source": [
        "df[df['age'] >= 65].groupby(df['job']).count()['age']\n"
      ],
      "metadata": {
        "colab": {
          "base_uri": "https://localhost:8080/"
        },
        "id": "kp8smKgIz5VW",
        "outputId": "968d39ab-f066-48d1-f83c-045fe8f7043f"
      },
      "execution_count": 193,
      "outputs": [
        {
          "output_type": "execute_result",
          "data": {
            "text/plain": [
              "job\n",
              "admin.            17\n",
              "blue-collar        5\n",
              "entrepreneur       4\n",
              "housemaid         38\n",
              "management        14\n",
              "retired          560\n",
              "self-employed      3\n",
              "services           1\n",
              "technician         7\n",
              "unemployed         3\n",
              "unknown           11\n",
              "Name: age, dtype: int64"
            ]
          },
          "metadata": {},
          "execution_count": 193
        }
      ]
    },
    {
      "cell_type": "markdown",
      "source": [
        "We can see that the majority of people greater than or equal to the age of 65 are retired, providing proper context for the outliers. Therefore we won't change the age values that are outliers. "
      ],
      "metadata": {
        "id": "HEjM_aNX1Qy5"
      }
    },
    {
      "cell_type": "code",
      "source": [
        "df.campaign.plot(kind = 'kde')"
      ],
      "metadata": {
        "colab": {
          "base_uri": "https://localhost:8080/",
          "height": 284
        },
        "id": "k8bWdroUy7Gb",
        "outputId": "44d1b4b8-ef9a-46c0-a070-9613c76bb72b"
      },
      "execution_count": 194,
      "outputs": [
        {
          "output_type": "execute_result",
          "data": {
            "text/plain": [
              "<matplotlib.axes._subplots.AxesSubplot at 0x7fd300cebb90>"
            ]
          },
          "metadata": {},
          "execution_count": 194
        },
        {
          "output_type": "display_data",
          "data": {
            "text/plain": [
              "<Figure size 432x288 with 1 Axes>"
            ],
            "image/png": "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\n"
          },
          "metadata": {
            "needs_background": "light"
          }
        }
      ]
    },
    {
      "cell_type": "markdown",
      "source": [
        "The probability density function of campaign shows a sharp increase at zero and quickly levels off. The max value is 56 which seems a bit unusual. However, this value is not significant enough to assume something is wrong with the data point. "
      ],
      "metadata": {
        "id": "bZ3MQ62ATgai"
      }
    },
    {
      "cell_type": "markdown",
      "source": [
        "I wanted to see the distirbution of the targe variable for every category and the levels. \n",
        "\n"
      ],
      "metadata": {
        "id": "nOfMigfZUFIu"
      }
    },
    {
      "cell_type": "code",
      "source": [
        "categories = []\n",
        "for label in df.columns:\n",
        "  if df[label].values.dtype == object:\n",
        "    categories.append(label)\n",
        "\n"
      ],
      "metadata": {
        "id": "tMu0bKZXUMmX"
      },
      "execution_count": 195,
      "outputs": []
    },
    {
      "cell_type": "code",
      "source": [
        "for i in range(len(categories)):\n",
        "  plt.figure(figsize = (10,5))\n",
        "  plt.xticks(rotation = 45)\n",
        "  sns.countplot(data = df, x = categories[i], hue = df['y'] )"
      ],
      "metadata": {
        "colab": {
          "base_uri": "https://localhost:8080/",
          "height": 1000
        },
        "id": "9u-iJHKilMYC",
        "outputId": "aed3ba6a-7dfd-4f7b-9556-0a7ea1acb9be"
      },
      "execution_count": 196,
      "outputs": [
        {
          "output_type": "display_data",
          "data": {
            "text/plain": [
              "<Figure size 720x360 with 1 Axes>"
            ],
            "image/png": "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\n"
          },
          "metadata": {
            "needs_background": "light"
          }
        },
        {
          "output_type": "display_data",
          "data": {
            "text/plain": [
              "<Figure size 720x360 with 1 Axes>"
            ],
            "image/png": "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\n"
          },
          "metadata": {
            "needs_background": "light"
          }
        },
        {
          "output_type": "display_data",
          "data": {
            "text/plain": [
              "<Figure size 720x360 with 1 Axes>"
            ],
            "image/png": "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\n"
          },
          "metadata": {
            "needs_background": "light"
          }
        },
        {
          "output_type": "display_data",
          "data": {
            "text/plain": [
              "<Figure size 720x360 with 1 Axes>"
            ],
            "image/png": "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\n"
          },
          "metadata": {
            "needs_background": "light"
          }
        },
        {
          "output_type": "display_data",
          "data": {
            "text/plain": [
              "<Figure size 720x360 with 1 Axes>"
            ],
            "image/png": "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\n"
          },
          "metadata": {
            "needs_background": "light"
          }
        },
        {
          "output_type": "display_data",
          "data": {
            "text/plain": [
              "<Figure size 720x360 with 1 Axes>"
            ],
            "image/png": "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\n"
          },
          "metadata": {
            "needs_background": "light"
          }
        },
        {
          "output_type": "display_data",
          "data": {
            "text/plain": [
              "<Figure size 720x360 with 1 Axes>"
            ],
            "image/png": "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\n"
          },
          "metadata": {
            "needs_background": "light"
          }
        },
        {
          "output_type": "display_data",
          "data": {
            "text/plain": [
              "<Figure size 720x360 with 1 Axes>"
            ],
            "image/png": "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\n"
          },
          "metadata": {
            "needs_background": "light"
          }
        },
        {
          "output_type": "display_data",
          "data": {
            "text/plain": [
              "<Figure size 720x360 with 1 Axes>"
            ],
            "image/png": "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\n"
          },
          "metadata": {
            "needs_background": "light"
          }
        },
        {
          "output_type": "display_data",
          "data": {
            "text/plain": [
              "<Figure size 720x360 with 1 Axes>"
            ],
            "image/png": "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\n"
          },
          "metadata": {
            "needs_background": "light"
          }
        },
        {
          "output_type": "display_data",
          "data": {
            "text/plain": [
              "<Figure size 720x360 with 1 Axes>"
            ],
            "image/png": "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\n"
          },
          "metadata": {
            "needs_background": "light"
          }
        }
      ]
    },
    {
      "cell_type": "markdown",
      "source": [
        "We can see that there is a strong imbalance in almost every category as well as the target variable itself. I will later implement the Synthetic Minority Oversampling technique (SMOTE) after splitting the data to fix this imbalance."
      ],
      "metadata": {
        "id": "wo33SQ7RoN1i"
      }
    },
    {
      "cell_type": "markdown",
      "source": [
        "To create a full correllation matrix, we need to convert the categorical variables into numerical variables. For binary values, we can convert to 0 and 1. For nonbinary variables, we will have to divide them up into two categories: ordinal and nominal. "
      ],
      "metadata": {
        "id": "kxWN48JDSwab"
      }
    },
    {
      "cell_type": "markdown",
      "source": [
        "The decision tree classifier class from the sklearn library will try to convert strings to a float when fitting the data to our model. Since this isn't allowed it will output  \"ValueError: could not convert string to float: 'admin.' As a result we will have to convert the categorical variables to numerical variables.\n",
        "I will first start with the variables that have values 'yes' or 'no'."
      ],
      "metadata": {
        "id": "Ul32te4NnDFD"
      }
    },
    {
      "cell_type": "code",
      "source": [
        "df = df.replace({'default': {'yes': -1, 'unknown': 0, 'no': 1}})\n",
        "df = df.replace({'y': {'yes': 1, 'no': 0}})\n",
        "df = df.replace({'loan': {'yes': -1, 'unknown': 0, 'no': 1}})\n",
        "df = df.replace({'housing': {'yes': -1, 'unknown': 0, 'no': 1}})\n",
        "df = df.replace({'poutcome': {'failure': -1, 'nonexistent': 0, 'success': 1}})"
      ],
      "metadata": {
        "id": "Jlw-OwkB4laP"
      },
      "execution_count": 197,
      "outputs": []
    },
    {
      "cell_type": "markdown",
      "source": [
        "Now we need to change nominal variable values to values than can be passed into XGboost. We will use one hot encoding for this.\n",
        "\n",
        "\n"
      ],
      "metadata": {
        "id": "qtivcNf4t1WT"
      }
    },
    {
      "cell_type": "code",
      "source": [
        "df = pd.get_dummies(df, columns = ['job', 'marital','contact', 'month', 'day_of_week','education'])\n",
        "df_3 = df.copy(deep = True) #creating copy for third model without changes to original data"
      ],
      "metadata": {
        "id": "xygaKNGEhPza"
      },
      "execution_count": 198,
      "outputs": []
    },
    {
      "cell_type": "markdown",
      "source": [
        "We do not have to drop one of the dummy variables for each feature that was split because XGboost is not affected by multicollinearity since it is a classifcation problem (that stems from a decision tree as its base) and not a regression problem. I will normalize the data (even though not neccessary) using the min-max normilization method. This will not affect the correlation matrix because correlation is not affected by the linear transformation of data. "
      ],
      "metadata": {
        "id": "8cWiPhIy_WoZ"
      }
    },
    {
      "cell_type": "code",
      "source": [
        "from sklearn.preprocessing import MinMaxScaler\n",
        "col_norm = ['age',\t'campaign',\t'previous',\t'emp.var.rate',\t'cons.price.idx',\t'cons.conf.idx',\t'euribor3m',\t'nr.employed']\n",
        "df[col_norm] = MinMaxScaler().fit_transform(df[col_norm])\n",
        "df[col_norm].head()"
      ],
      "metadata": {
        "colab": {
          "base_uri": "https://localhost:8080/",
          "height": 206
        },
        "id": "nyVXfIYPaddF",
        "outputId": "26a633b6-69dc-4228-97b9-addce5b57fe2"
      },
      "execution_count": 199,
      "outputs": [
        {
          "output_type": "execute_result",
          "data": {
            "text/plain": [
              "        age  campaign  previous  emp.var.rate  cons.price.idx  cons.conf.idx  \\\n",
              "0  0.481481       0.0       0.0        0.9375        0.698753        0.60251   \n",
              "1  0.493827       0.0       0.0        0.9375        0.698753        0.60251   \n",
              "2  0.246914       0.0       0.0        0.9375        0.698753        0.60251   \n",
              "3  0.283951       0.0       0.0        0.9375        0.698753        0.60251   \n",
              "4  0.481481       0.0       0.0        0.9375        0.698753        0.60251   \n",
              "\n",
              "   euribor3m  nr.employed  \n",
              "0   0.957379     0.859735  \n",
              "1   0.957379     0.859735  \n",
              "2   0.957379     0.859735  \n",
              "3   0.957379     0.859735  \n",
              "4   0.957379     0.859735  "
            ],
            "text/html": [
              "\n",
              "  <div id=\"df-3ed5783a-40fb-4894-b054-c7f4d63e3c9c\">\n",
              "    <div class=\"colab-df-container\">\n",
              "      <div>\n",
              "<style scoped>\n",
              "    .dataframe tbody tr th:only-of-type {\n",
              "        vertical-align: middle;\n",
              "    }\n",
              "\n",
              "    .dataframe tbody tr th {\n",
              "        vertical-align: top;\n",
              "    }\n",
              "\n",
              "    .dataframe thead th {\n",
              "        text-align: right;\n",
              "    }\n",
              "</style>\n",
              "<table border=\"1\" class=\"dataframe\">\n",
              "  <thead>\n",
              "    <tr style=\"text-align: right;\">\n",
              "      <th></th>\n",
              "      <th>age</th>\n",
              "      <th>campaign</th>\n",
              "      <th>previous</th>\n",
              "      <th>emp.var.rate</th>\n",
              "      <th>cons.price.idx</th>\n",
              "      <th>cons.conf.idx</th>\n",
              "      <th>euribor3m</th>\n",
              "      <th>nr.employed</th>\n",
              "    </tr>\n",
              "  </thead>\n",
              "  <tbody>\n",
              "    <tr>\n",
              "      <th>0</th>\n",
              "      <td>0.481481</td>\n",
              "      <td>0.0</td>\n",
              "      <td>0.0</td>\n",
              "      <td>0.9375</td>\n",
              "      <td>0.698753</td>\n",
              "      <td>0.60251</td>\n",
              "      <td>0.957379</td>\n",
              "      <td>0.859735</td>\n",
              "    </tr>\n",
              "    <tr>\n",
              "      <th>1</th>\n",
              "      <td>0.493827</td>\n",
              "      <td>0.0</td>\n",
              "      <td>0.0</td>\n",
              "      <td>0.9375</td>\n",
              "      <td>0.698753</td>\n",
              "      <td>0.60251</td>\n",
              "      <td>0.957379</td>\n",
              "      <td>0.859735</td>\n",
              "    </tr>\n",
              "    <tr>\n",
              "      <th>2</th>\n",
              "      <td>0.246914</td>\n",
              "      <td>0.0</td>\n",
              "      <td>0.0</td>\n",
              "      <td>0.9375</td>\n",
              "      <td>0.698753</td>\n",
              "      <td>0.60251</td>\n",
              "      <td>0.957379</td>\n",
              "      <td>0.859735</td>\n",
              "    </tr>\n",
              "    <tr>\n",
              "      <th>3</th>\n",
              "      <td>0.283951</td>\n",
              "      <td>0.0</td>\n",
              "      <td>0.0</td>\n",
              "      <td>0.9375</td>\n",
              "      <td>0.698753</td>\n",
              "      <td>0.60251</td>\n",
              "      <td>0.957379</td>\n",
              "      <td>0.859735</td>\n",
              "    </tr>\n",
              "    <tr>\n",
              "      <th>4</th>\n",
              "      <td>0.481481</td>\n",
              "      <td>0.0</td>\n",
              "      <td>0.0</td>\n",
              "      <td>0.9375</td>\n",
              "      <td>0.698753</td>\n",
              "      <td>0.60251</td>\n",
              "      <td>0.957379</td>\n",
              "      <td>0.859735</td>\n",
              "    </tr>\n",
              "  </tbody>\n",
              "</table>\n",
              "</div>\n",
              "      <button class=\"colab-df-convert\" onclick=\"convertToInteractive('df-3ed5783a-40fb-4894-b054-c7f4d63e3c9c')\"\n",
              "              title=\"Convert this dataframe to an interactive table.\"\n",
              "              style=\"display:none;\">\n",
              "        \n",
              "  <svg xmlns=\"http://www.w3.org/2000/svg\" height=\"24px\"viewBox=\"0 0 24 24\"\n",
              "       width=\"24px\">\n",
              "    <path d=\"M0 0h24v24H0V0z\" fill=\"none\"/>\n",
              "    <path d=\"M18.56 5.44l.94 2.06.94-2.06 2.06-.94-2.06-.94-.94-2.06-.94 2.06-2.06.94zm-11 1L8.5 8.5l.94-2.06 2.06-.94-2.06-.94L8.5 2.5l-.94 2.06-2.06.94zm10 10l.94 2.06.94-2.06 2.06-.94-2.06-.94-.94-2.06-.94 2.06-2.06.94z\"/><path d=\"M17.41 7.96l-1.37-1.37c-.4-.4-.92-.59-1.43-.59-.52 0-1.04.2-1.43.59L10.3 9.45l-7.72 7.72c-.78.78-.78 2.05 0 2.83L4 21.41c.39.39.9.59 1.41.59.51 0 1.02-.2 1.41-.59l7.78-7.78 2.81-2.81c.8-.78.8-2.07 0-2.86zM5.41 20L4 18.59l7.72-7.72 1.47 1.35L5.41 20z\"/>\n",
              "  </svg>\n",
              "      </button>\n",
              "      \n",
              "  <style>\n",
              "    .colab-df-container {\n",
              "      display:flex;\n",
              "      flex-wrap:wrap;\n",
              "      gap: 12px;\n",
              "    }\n",
              "\n",
              "    .colab-df-convert {\n",
              "      background-color: #E8F0FE;\n",
              "      border: none;\n",
              "      border-radius: 50%;\n",
              "      cursor: pointer;\n",
              "      display: none;\n",
              "      fill: #1967D2;\n",
              "      height: 32px;\n",
              "      padding: 0 0 0 0;\n",
              "      width: 32px;\n",
              "    }\n",
              "\n",
              "    .colab-df-convert:hover {\n",
              "      background-color: #E2EBFA;\n",
              "      box-shadow: 0px 1px 2px rgba(60, 64, 67, 0.3), 0px 1px 3px 1px rgba(60, 64, 67, 0.15);\n",
              "      fill: #174EA6;\n",
              "    }\n",
              "\n",
              "    [theme=dark] .colab-df-convert {\n",
              "      background-color: #3B4455;\n",
              "      fill: #D2E3FC;\n",
              "    }\n",
              "\n",
              "    [theme=dark] .colab-df-convert:hover {\n",
              "      background-color: #434B5C;\n",
              "      box-shadow: 0px 1px 3px 1px rgba(0, 0, 0, 0.15);\n",
              "      filter: drop-shadow(0px 1px 2px rgba(0, 0, 0, 0.3));\n",
              "      fill: #FFFFFF;\n",
              "    }\n",
              "  </style>\n",
              "\n",
              "      <script>\n",
              "        const buttonEl =\n",
              "          document.querySelector('#df-3ed5783a-40fb-4894-b054-c7f4d63e3c9c button.colab-df-convert');\n",
              "        buttonEl.style.display =\n",
              "          google.colab.kernel.accessAllowed ? 'block' : 'none';\n",
              "\n",
              "        async function convertToInteractive(key) {\n",
              "          const element = document.querySelector('#df-3ed5783a-40fb-4894-b054-c7f4d63e3c9c');\n",
              "          const dataTable =\n",
              "            await google.colab.kernel.invokeFunction('convertToInteractive',\n",
              "                                                     [key], {});\n",
              "          if (!dataTable) return;\n",
              "\n",
              "          const docLinkHtml = 'Like what you see? Visit the ' +\n",
              "            '<a target=\"_blank\" href=https://colab.research.google.com/notebooks/data_table.ipynb>data table notebook</a>'\n",
              "            + ' to learn more about interactive tables.';\n",
              "          element.innerHTML = '';\n",
              "          dataTable['output_type'] = 'display_data';\n",
              "          await google.colab.output.renderOutput(dataTable, element);\n",
              "          const docLink = document.createElement('div');\n",
              "          docLink.innerHTML = docLinkHtml;\n",
              "          element.appendChild(docLink);\n",
              "        }\n",
              "      </script>\n",
              "    </div>\n",
              "  </div>\n",
              "  "
            ]
          },
          "metadata": {},
          "execution_count": 199
        }
      ]
    },
    {
      "cell_type": "code",
      "source": [
        "plt.figure(figsize=(20, 15))\n",
        "sns.heatmap(df.corr(), cmap = 'seismic', linewidths = 0.3).set(title = \"Correlation Matrix\")"
      ],
      "metadata": {
        "id": "E-vJdGq5whZF",
        "colab": {
          "base_uri": "https://localhost:8080/",
          "height": 1000
        },
        "outputId": "087382d9-cf1f-4fd6-9bef-a80dab0582b9"
      },
      "execution_count": 200,
      "outputs": [
        {
          "output_type": "execute_result",
          "data": {
            "text/plain": [
              "[Text(0.5, 1.0, 'Correlation Matrix')]"
            ]
          },
          "metadata": {},
          "execution_count": 200
        },
        {
          "output_type": "display_data",
          "data": {
            "text/plain": [
              "<Figure size 1440x1080 with 2 Axes>"
            ],
            "image/png": "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\n"
          },
          "metadata": {
            "needs_background": "light"
          }
        }
      ]
    },
    {
      "cell_type": "markdown",
      "source": [
        "From the correlation plot we can see that there is a high level of correlation between many of the economic indicators. This would make sense because the changes in the economy from one standpoint would affect it from another. "
      ],
      "metadata": {
        "id": "8tfaVM5KGYPg"
      }
    },
    {
      "cell_type": "markdown",
      "source": [
        "If we keep all of the dummy varaibles than multicollinareity will be present. This is irrevelant for XGBoost but still good practice if I want to use an algorithm that requires an absence of multicollinearity between the features. From the output below we can see marital_single marital_married are highly correlated as well many of the economic metrics. We will start of by dropping emp.var.rate and nr.employed and recacalculate the correlation coefficients."
      ],
      "metadata": {
        "id": "lwDp79LzOa6m"
      }
    },
    {
      "cell_type": "code",
      "source": [
        "cor_mat = df.corr()\n",
        "cor_pairs = cor_mat.unstack()\n",
        "sort_p = cor_pairs.sort_values()\n",
        "high_cor_p = sort_p[abs(sort_p) > 0.5]\n",
        "final_cor = high_cor_p[abs(high_cor_p) < 1]\n",
        "print(final_cor)"
      ],
      "metadata": {
        "colab": {
          "base_uri": "https://localhost:8080/"
        },
        "id": "K7i-p6Pt_UA3",
        "outputId": "658f32ea-dab4-457e-f467-29eb2f27fa01"
      },
      "execution_count": 201,
      "outputs": [
        {
          "output_type": "stream",
          "name": "stdout",
          "text": [
            "contact_telephone  contact_cellular    -1.000000\n",
            "contact_cellular   contact_telephone   -1.000000\n",
            "marital_single     marital_married     -0.773785\n",
            "marital_married    marital_single      -0.773785\n",
            "cons.price.idx     contact_cellular    -0.591474\n",
            "contact_cellular   cons.price.idx      -0.591474\n",
            "previous           nr.employed         -0.501333\n",
            "nr.employed        previous            -0.501333\n",
            "cons.price.idx     nr.employed          0.522034\n",
            "nr.employed        cons.price.idx       0.522034\n",
            "contact_telephone  cons.price.idx       0.591474\n",
            "cons.price.idx     contact_telephone    0.591474\n",
            "euribor3m          cons.price.idx       0.688230\n",
            "cons.price.idx     euribor3m            0.688230\n",
            "emp.var.rate       cons.price.idx       0.775334\n",
            "cons.price.idx     emp.var.rate         0.775334\n",
            "nr.employed        emp.var.rate         0.906970\n",
            "emp.var.rate       nr.employed          0.906970\n",
            "nr.employed        euribor3m            0.945154\n",
            "euribor3m          nr.employed          0.945154\n",
            "emp.var.rate       euribor3m            0.972245\n",
            "euribor3m          emp.var.rate         0.972245\n",
            "dtype: float64\n"
          ]
        }
      ]
    },
    {
      "cell_type": "code",
      "source": [
        "df  = df.drop(['emp.var.rate', 'nr.employed', 'contact_telephone', 'marital_married', 'cons.price.idx'], axis = 1)\n",
        "cor_mat = df.corr()\n",
        "cor_pairs = cor_mat.unstack()\n",
        "sort_p = cor_pairs.sort_values()\n",
        "high_cor_p = sort_p[abs(sort_p) > 0.5]\n",
        "final_cor = high_cor_p[abs(high_cor_p) < 1]\n",
        "print(final_cor)\n"
      ],
      "metadata": {
        "colab": {
          "base_uri": "https://localhost:8080/"
        },
        "id": "gEC_kQoBVk2x",
        "outputId": "2bc438d3-bfd9-496a-b805-dca74933de05"
      },
      "execution_count": 202,
      "outputs": [
        {
          "output_type": "stream",
          "name": "stdout",
          "text": [
            "Series([], dtype: float64)\n"
          ]
        }
      ]
    },
    {
      "cell_type": "code",
      "source": [
        "df.head()"
      ],
      "metadata": {
        "id": "nValIylHkueQ",
        "colab": {
          "base_uri": "https://localhost:8080/",
          "height": 300
        },
        "outputId": "7ddadee0-1496-4aca-e139-4507f5af9d75"
      },
      "execution_count": 203,
      "outputs": [
        {
          "output_type": "execute_result",
          "data": {
            "text/plain": [
              "        age  default  housing  loan  campaign  previous  poutcome  \\\n",
              "0  0.481481        1        1     1       0.0       0.0         0   \n",
              "1  0.493827        0        1     1       0.0       0.0         0   \n",
              "2  0.246914        1       -1     1       0.0       0.0         0   \n",
              "3  0.283951        1        1     1       0.0       0.0         0   \n",
              "4  0.481481        1        1    -1       0.0       0.0         0   \n",
              "\n",
              "   cons.conf.idx  euribor3m  y  ...  day_of_week_tue  day_of_week_wed  \\\n",
              "0        0.60251   0.957379  0  ...                0                0   \n",
              "1        0.60251   0.957379  0  ...                0                0   \n",
              "2        0.60251   0.957379  0  ...                0                0   \n",
              "3        0.60251   0.957379  0  ...                0                0   \n",
              "4        0.60251   0.957379  0  ...                0                0   \n",
              "\n",
              "   education_basic.4y  education_basic.6y  education_basic.9y  \\\n",
              "0                   1                   0                   0   \n",
              "1                   0                   0                   0   \n",
              "2                   0                   0                   0   \n",
              "3                   0                   1                   0   \n",
              "4                   0                   0                   0   \n",
              "\n",
              "   education_high.school  education_illiterate  education_professional.course  \\\n",
              "0                      0                     0                              0   \n",
              "1                      1                     0                              0   \n",
              "2                      1                     0                              0   \n",
              "3                      0                     0                              0   \n",
              "4                      1                     0                              0   \n",
              "\n",
              "   education_university.degree  education_unknown  \n",
              "0                            0                  0  \n",
              "1                            0                  0  \n",
              "2                            0                  0  \n",
              "3                            0                  0  \n",
              "4                            0                  0  \n",
              "\n",
              "[5 rows x 49 columns]"
            ],
            "text/html": [
              "\n",
              "  <div id=\"df-52541df5-6d3a-486f-9972-f36b2602b8a1\">\n",
              "    <div class=\"colab-df-container\">\n",
              "      <div>\n",
              "<style scoped>\n",
              "    .dataframe tbody tr th:only-of-type {\n",
              "        vertical-align: middle;\n",
              "    }\n",
              "\n",
              "    .dataframe tbody tr th {\n",
              "        vertical-align: top;\n",
              "    }\n",
              "\n",
              "    .dataframe thead th {\n",
              "        text-align: right;\n",
              "    }\n",
              "</style>\n",
              "<table border=\"1\" class=\"dataframe\">\n",
              "  <thead>\n",
              "    <tr style=\"text-align: right;\">\n",
              "      <th></th>\n",
              "      <th>age</th>\n",
              "      <th>default</th>\n",
              "      <th>housing</th>\n",
              "      <th>loan</th>\n",
              "      <th>campaign</th>\n",
              "      <th>previous</th>\n",
              "      <th>poutcome</th>\n",
              "      <th>cons.conf.idx</th>\n",
              "      <th>euribor3m</th>\n",
              "      <th>y</th>\n",
              "      <th>...</th>\n",
              "      <th>day_of_week_tue</th>\n",
              "      <th>day_of_week_wed</th>\n",
              "      <th>education_basic.4y</th>\n",
              "      <th>education_basic.6y</th>\n",
              "      <th>education_basic.9y</th>\n",
              "      <th>education_high.school</th>\n",
              "      <th>education_illiterate</th>\n",
              "      <th>education_professional.course</th>\n",
              "      <th>education_university.degree</th>\n",
              "      <th>education_unknown</th>\n",
              "    </tr>\n",
              "  </thead>\n",
              "  <tbody>\n",
              "    <tr>\n",
              "      <th>0</th>\n",
              "      <td>0.481481</td>\n",
              "      <td>1</td>\n",
              "      <td>1</td>\n",
              "      <td>1</td>\n",
              "      <td>0.0</td>\n",
              "      <td>0.0</td>\n",
              "      <td>0</td>\n",
              "      <td>0.60251</td>\n",
              "      <td>0.957379</td>\n",
              "      <td>0</td>\n",
              "      <td>...</td>\n",
              "      <td>0</td>\n",
              "      <td>0</td>\n",
              "      <td>1</td>\n",
              "      <td>0</td>\n",
              "      <td>0</td>\n",
              "      <td>0</td>\n",
              "      <td>0</td>\n",
              "      <td>0</td>\n",
              "      <td>0</td>\n",
              "      <td>0</td>\n",
              "    </tr>\n",
              "    <tr>\n",
              "      <th>1</th>\n",
              "      <td>0.493827</td>\n",
              "      <td>0</td>\n",
              "      <td>1</td>\n",
              "      <td>1</td>\n",
              "      <td>0.0</td>\n",
              "      <td>0.0</td>\n",
              "      <td>0</td>\n",
              "      <td>0.60251</td>\n",
              "      <td>0.957379</td>\n",
              "      <td>0</td>\n",
              "      <td>...</td>\n",
              "      <td>0</td>\n",
              "      <td>0</td>\n",
              "      <td>0</td>\n",
              "      <td>0</td>\n",
              "      <td>0</td>\n",
              "      <td>1</td>\n",
              "      <td>0</td>\n",
              "      <td>0</td>\n",
              "      <td>0</td>\n",
              "      <td>0</td>\n",
              "    </tr>\n",
              "    <tr>\n",
              "      <th>2</th>\n",
              "      <td>0.246914</td>\n",
              "      <td>1</td>\n",
              "      <td>-1</td>\n",
              "      <td>1</td>\n",
              "      <td>0.0</td>\n",
              "      <td>0.0</td>\n",
              "      <td>0</td>\n",
              "      <td>0.60251</td>\n",
              "      <td>0.957379</td>\n",
              "      <td>0</td>\n",
              "      <td>...</td>\n",
              "      <td>0</td>\n",
              "      <td>0</td>\n",
              "      <td>0</td>\n",
              "      <td>0</td>\n",
              "      <td>0</td>\n",
              "      <td>1</td>\n",
              "      <td>0</td>\n",
              "      <td>0</td>\n",
              "      <td>0</td>\n",
              "      <td>0</td>\n",
              "    </tr>\n",
              "    <tr>\n",
              "      <th>3</th>\n",
              "      <td>0.283951</td>\n",
              "      <td>1</td>\n",
              "      <td>1</td>\n",
              "      <td>1</td>\n",
              "      <td>0.0</td>\n",
              "      <td>0.0</td>\n",
              "      <td>0</td>\n",
              "      <td>0.60251</td>\n",
              "      <td>0.957379</td>\n",
              "      <td>0</td>\n",
              "      <td>...</td>\n",
              "      <td>0</td>\n",
              "      <td>0</td>\n",
              "      <td>0</td>\n",
              "      <td>1</td>\n",
              "      <td>0</td>\n",
              "      <td>0</td>\n",
              "      <td>0</td>\n",
              "      <td>0</td>\n",
              "      <td>0</td>\n",
              "      <td>0</td>\n",
              "    </tr>\n",
              "    <tr>\n",
              "      <th>4</th>\n",
              "      <td>0.481481</td>\n",
              "      <td>1</td>\n",
              "      <td>1</td>\n",
              "      <td>-1</td>\n",
              "      <td>0.0</td>\n",
              "      <td>0.0</td>\n",
              "      <td>0</td>\n",
              "      <td>0.60251</td>\n",
              "      <td>0.957379</td>\n",
              "      <td>0</td>\n",
              "      <td>...</td>\n",
              "      <td>0</td>\n",
              "      <td>0</td>\n",
              "      <td>0</td>\n",
              "      <td>0</td>\n",
              "      <td>0</td>\n",
              "      <td>1</td>\n",
              "      <td>0</td>\n",
              "      <td>0</td>\n",
              "      <td>0</td>\n",
              "      <td>0</td>\n",
              "    </tr>\n",
              "  </tbody>\n",
              "</table>\n",
              "<p>5 rows × 49 columns</p>\n",
              "</div>\n",
              "      <button class=\"colab-df-convert\" onclick=\"convertToInteractive('df-52541df5-6d3a-486f-9972-f36b2602b8a1')\"\n",
              "              title=\"Convert this dataframe to an interactive table.\"\n",
              "              style=\"display:none;\">\n",
              "        \n",
              "  <svg xmlns=\"http://www.w3.org/2000/svg\" height=\"24px\"viewBox=\"0 0 24 24\"\n",
              "       width=\"24px\">\n",
              "    <path d=\"M0 0h24v24H0V0z\" fill=\"none\"/>\n",
              "    <path d=\"M18.56 5.44l.94 2.06.94-2.06 2.06-.94-2.06-.94-.94-2.06-.94 2.06-2.06.94zm-11 1L8.5 8.5l.94-2.06 2.06-.94-2.06-.94L8.5 2.5l-.94 2.06-2.06.94zm10 10l.94 2.06.94-2.06 2.06-.94-2.06-.94-.94-2.06-.94 2.06-2.06.94z\"/><path d=\"M17.41 7.96l-1.37-1.37c-.4-.4-.92-.59-1.43-.59-.52 0-1.04.2-1.43.59L10.3 9.45l-7.72 7.72c-.78.78-.78 2.05 0 2.83L4 21.41c.39.39.9.59 1.41.59.51 0 1.02-.2 1.41-.59l7.78-7.78 2.81-2.81c.8-.78.8-2.07 0-2.86zM5.41 20L4 18.59l7.72-7.72 1.47 1.35L5.41 20z\"/>\n",
              "  </svg>\n",
              "      </button>\n",
              "      \n",
              "  <style>\n",
              "    .colab-df-container {\n",
              "      display:flex;\n",
              "      flex-wrap:wrap;\n",
              "      gap: 12px;\n",
              "    }\n",
              "\n",
              "    .colab-df-convert {\n",
              "      background-color: #E8F0FE;\n",
              "      border: none;\n",
              "      border-radius: 50%;\n",
              "      cursor: pointer;\n",
              "      display: none;\n",
              "      fill: #1967D2;\n",
              "      height: 32px;\n",
              "      padding: 0 0 0 0;\n",
              "      width: 32px;\n",
              "    }\n",
              "\n",
              "    .colab-df-convert:hover {\n",
              "      background-color: #E2EBFA;\n",
              "      box-shadow: 0px 1px 2px rgba(60, 64, 67, 0.3), 0px 1px 3px 1px rgba(60, 64, 67, 0.15);\n",
              "      fill: #174EA6;\n",
              "    }\n",
              "\n",
              "    [theme=dark] .colab-df-convert {\n",
              "      background-color: #3B4455;\n",
              "      fill: #D2E3FC;\n",
              "    }\n",
              "\n",
              "    [theme=dark] .colab-df-convert:hover {\n",
              "      background-color: #434B5C;\n",
              "      box-shadow: 0px 1px 3px 1px rgba(0, 0, 0, 0.15);\n",
              "      filter: drop-shadow(0px 1px 2px rgba(0, 0, 0, 0.3));\n",
              "      fill: #FFFFFF;\n",
              "    }\n",
              "  </style>\n",
              "\n",
              "      <script>\n",
              "        const buttonEl =\n",
              "          document.querySelector('#df-52541df5-6d3a-486f-9972-f36b2602b8a1 button.colab-df-convert');\n",
              "        buttonEl.style.display =\n",
              "          google.colab.kernel.accessAllowed ? 'block' : 'none';\n",
              "\n",
              "        async function convertToInteractive(key) {\n",
              "          const element = document.querySelector('#df-52541df5-6d3a-486f-9972-f36b2602b8a1');\n",
              "          const dataTable =\n",
              "            await google.colab.kernel.invokeFunction('convertToInteractive',\n",
              "                                                     [key], {});\n",
              "          if (!dataTable) return;\n",
              "\n",
              "          const docLinkHtml = 'Like what you see? Visit the ' +\n",
              "            '<a target=\"_blank\" href=https://colab.research.google.com/notebooks/data_table.ipynb>data table notebook</a>'\n",
              "            + ' to learn more about interactive tables.';\n",
              "          element.innerHTML = '';\n",
              "          dataTable['output_type'] = 'display_data';\n",
              "          await google.colab.output.renderOutput(dataTable, element);\n",
              "          const docLink = document.createElement('div');\n",
              "          docLink.innerHTML = docLinkHtml;\n",
              "          element.appendChild(docLink);\n",
              "        }\n",
              "      </script>\n",
              "    </div>\n",
              "  </div>\n",
              "  "
            ]
          },
          "metadata": {},
          "execution_count": 203
        }
      ]
    },
    {
      "cell_type": "code",
      "source": [
        ""
      ],
      "metadata": {
        "id": "34uNhlL4E5EB"
      },
      "execution_count": 203,
      "outputs": []
    },
    {
      "cell_type": "markdown",
      "source": [
        "# Modeling"
      ],
      "metadata": {
        "id": "yg9eHsT-ji5b"
      }
    },
    {
      "cell_type": "code",
      "source": [
        ""
      ],
      "metadata": {
        "id": "8IL4DzZItY2B"
      },
      "execution_count": 203,
      "outputs": []
    },
    {
      "cell_type": "markdown",
      "source": [
        "There are still a few things left to do.  The first is to run 3 basic XGboost models. The first will have unbalanced data, the second will have balanced data, and the third will have balanced data that hasn't had features removed. "
      ],
      "metadata": {
        "id": "nar0sRZ3tZfO"
      }
    },
    {
      "cell_type": "code",
      "source": [
        "from sklearn.model_selection import train_test_split #importing libraries for modeling \n",
        "from sklearn.tree import DecisionTreeClassifier\n",
        "from sklearn import metrics\n",
        "import xgboost"
      ],
      "metadata": {
        "id": "5UgVP2p-b8Up"
      },
      "execution_count": 204,
      "outputs": []
    },
    {
      "cell_type": "code",
      "source": [
        ""
      ],
      "metadata": {
        "id": "YlRob5QKALC-"
      },
      "execution_count": 204,
      "outputs": []
    },
    {
      "cell_type": "code",
      "source": [
        "y = df['y']  #seperating preidction and target variables\n",
        "x = df.drop(['y'], axis = 1)\n"
      ],
      "metadata": {
        "id": "deJLrhdfII8k"
      },
      "execution_count": 205,
      "outputs": []
    },
    {
      "cell_type": "code",
      "source": [
        "x_train, x_test, y_train, y_test = train_test_split(x,y,test_size = 0.2, random_state = 43) #splitting data into training and test sets"
      ],
      "metadata": {
        "id": "t0VpvzdXI1vU"
      },
      "execution_count": 206,
      "outputs": []
    },
    {
      "cell_type": "code",
      "source": [
        "from imblearn.over_sampling import SMOTE"
      ],
      "metadata": {
        "id": "dbLNf4eYpKJb"
      },
      "execution_count": 207,
      "outputs": []
    },
    {
      "cell_type": "code",
      "source": [
        "smote_obj = SMOTE(random_state=22)\n",
        "x_train1,y_train1 = smote_obj.fit_resample(x_train,y_train) #balancing training sample \n"
      ],
      "metadata": {
        "id": "afZgJeX7pKDJ"
      },
      "execution_count": 208,
      "outputs": []
    },
    {
      "cell_type": "code",
      "source": [
        ""
      ],
      "metadata": {
        "id": "xz7VT-nYpJ5e"
      },
      "execution_count": 208,
      "outputs": []
    },
    {
      "cell_type": "markdown",
      "source": [
        "Below is the XGboost model without having balanced test data. "
      ],
      "metadata": {
        "id": "8aL0DeRe1KJz"
      }
    },
    {
      "cell_type": "code",
      "source": [
        "model_x = xgboost.XGBClassifier(random_state= 37) \n",
        "model_x.fit(x_train, y_train) #model being fit with unbalance data\n",
        "y_pred = model_x.predict(x_test)\n",
        "\n"
      ],
      "metadata": {
        "id": "4mxtc8yZ2FVb"
      },
      "execution_count": 209,
      "outputs": []
    },
    {
      "cell_type": "markdown",
      "source": [
        ""
      ],
      "metadata": {
        "id": "OUnd-dlA6tBg"
      }
    },
    {
      "cell_type": "code",
      "source": [
        "metrics.precision_score(y_pred, y_test)"
      ],
      "metadata": {
        "id": "y-YtkXJ_3U-l",
        "colab": {
          "base_uri": "https://localhost:8080/"
        },
        "outputId": "024bc1d4-8b35-4c41-8872-5f31684e0ea5"
      },
      "execution_count": 210,
      "outputs": [
        {
          "output_type": "execute_result",
          "data": {
            "text/plain": [
              "0.21487603305785125"
            ]
          },
          "metadata": {},
          "execution_count": 210
        }
      ]
    },
    {
      "cell_type": "code",
      "source": [
        "metrics.precision_score(y_pred, y_test )"
      ],
      "metadata": {
        "id": "hEIPnVyR3YiL",
        "colab": {
          "base_uri": "https://localhost:8080/"
        },
        "outputId": "1dae2753-4ddf-47d2-aaef-d3fb235edfa9"
      },
      "execution_count": 211,
      "outputs": [
        {
          "output_type": "execute_result",
          "data": {
            "text/plain": [
              "0.21487603305785125"
            ]
          },
          "metadata": {},
          "execution_count": 211
        }
      ]
    },
    {
      "cell_type": "code",
      "source": [
        "metrics.accuracy_score(y_pred, y_test)"
      ],
      "metadata": {
        "id": "rEPEzglc3N31",
        "colab": {
          "base_uri": "https://localhost:8080/"
        },
        "outputId": "81f39e0b-b860-43ac-a1b9-1fe8fd5373be"
      },
      "execution_count": 212,
      "outputs": [
        {
          "output_type": "execute_result",
          "data": {
            "text/plain": [
              "0.896091284292304"
            ]
          },
          "metadata": {},
          "execution_count": 212
        }
      ]
    },
    {
      "cell_type": "markdown",
      "source": [
        "I will do analysis to find the optimal hyperparameters."
      ],
      "metadata": {
        "id": "Otd8g86Q38M6"
      }
    },
    {
      "cell_type": "code",
      "source": [
        ""
      ],
      "metadata": {
        "id": "pE3g-Bxk7GPv"
      },
      "execution_count": 212,
      "outputs": []
    },
    {
      "cell_type": "markdown",
      "source": [
        "Here is the model with balanced training data: \n"
      ],
      "metadata": {
        "id": "kaeBRD7sqKRF"
      }
    },
    {
      "cell_type": "code",
      "source": [
        "model_x1 = xgboost.XGBClassifier(random_state = 84) \n",
        "model_x1.fit(x_train1, y_train1)\n",
        "y_pred1 = model_x1.predict(x_test)\n"
      ],
      "metadata": {
        "id": "HW-eZIq-qPP8"
      },
      "execution_count": 213,
      "outputs": []
    },
    {
      "cell_type": "markdown",
      "source": [
        ""
      ],
      "metadata": {
        "id": "kzea2nv6qlLF"
      }
    },
    {
      "cell_type": "code",
      "source": [
        "metrics.accuracy_score(y_pred1, y_test)"
      ],
      "metadata": {
        "colab": {
          "base_uri": "https://localhost:8080/"
        },
        "id": "ehTHnrVqqtIe",
        "outputId": "5e696bf3-4ed0-4852-9de6-f2ac85f27642"
      },
      "execution_count": 214,
      "outputs": [
        {
          "output_type": "execute_result",
          "data": {
            "text/plain": [
              "0.8656227239621267"
            ]
          },
          "metadata": {},
          "execution_count": 214
        }
      ]
    },
    {
      "cell_type": "markdown",
      "source": [
        ""
      ],
      "metadata": {
        "id": "Nv01OTKNqlBD"
      }
    },
    {
      "cell_type": "code",
      "source": [
        "metrics.precision_score(y_pred1, y_test)"
      ],
      "metadata": {
        "colab": {
          "base_uri": "https://localhost:8080/"
        },
        "id": "t4BuGhv1qVCn",
        "outputId": "2c4e90f4-0470-4ca5-e5c4-172aa23890ea"
      },
      "execution_count": 215,
      "outputs": [
        {
          "output_type": "execute_result",
          "data": {
            "text/plain": [
              "0.5506198347107438"
            ]
          },
          "metadata": {},
          "execution_count": 215
        }
      ]
    },
    {
      "cell_type": "markdown",
      "source": [
        "As can be seen above the precision score improved significantly between the unbalanced and balanced data. Accuracy had a slight drop off from the first to second model with different data since, which is to be expected"
      ],
      "metadata": {
        "id": "BoGubrH9q_mx"
      }
    },
    {
      "cell_type": "code",
      "source": [
        ""
      ],
      "metadata": {
        "id": "XIul2chsq7pY"
      },
      "execution_count": 215,
      "outputs": []
    },
    {
      "cell_type": "markdown",
      "source": [
        "I will run one more model before hyperparameter tuning that does not have deleted features or normalized values but still has balanced training data. "
      ],
      "metadata": {
        "id": "KZVVan6K2ySa"
      }
    },
    {
      "cell_type": "code",
      "source": [
        "y3 = df_3['y']  #seperating preidction and target variables\n",
        "x3 = df_3.drop(['y'], axis = 1)\n",
        "x_train3, x_test3, y_train3, y_test3 = train_test_split(x3,y3,test_size = 0.2, random_state = 17) #splitting data into training and test sets\n",
        "smote_obj3 = SMOTE(random_state=22)\n",
        "x_train3,y_train3 = smote_obj3.fit_resample(x_train3,y_train3)\n"
      ],
      "metadata": {
        "id": "RlMq4j1Wq_R9"
      },
      "execution_count": 216,
      "outputs": []
    },
    {
      "cell_type": "code",
      "source": [
        "model_x3= xgboost.XGBClassifier(random_state = 31) \n",
        "model_x3.fit(x_train3, y_train3)\n",
        "y_pred3 = model_x3.predict(x_test3)\n"
      ],
      "metadata": {
        "id": "gehYZZwz4uP4"
      },
      "execution_count": 217,
      "outputs": []
    },
    {
      "cell_type": "code",
      "source": [
        "metrics.accuracy_score(y_pred3, y_test3)"
      ],
      "metadata": {
        "colab": {
          "base_uri": "https://localhost:8080/"
        },
        "id": "yT_1UpSh47rM",
        "outputId": "b3a66c08-de87-4a77-dc26-c66b98d3027b"
      },
      "execution_count": 218,
      "outputs": [
        {
          "output_type": "execute_result",
          "data": {
            "text/plain": [
              "0.883102694828842"
            ]
          },
          "metadata": {},
          "execution_count": 218
        }
      ]
    },
    {
      "cell_type": "code",
      "source": [
        "metrics.precision_score(y_pred3, y_test3)"
      ],
      "metadata": {
        "colab": {
          "base_uri": "https://localhost:8080/"
        },
        "id": "l7Ei2Att5ESe",
        "outputId": "a5290235-17c6-4a50-f631-8666b87d7b61"
      },
      "execution_count": 219,
      "outputs": [
        {
          "output_type": "execute_result",
          "data": {
            "text/plain": [
              "0.48366701791359323"
            ]
          },
          "metadata": {},
          "execution_count": 219
        }
      ]
    },
    {
      "cell_type": "markdown",
      "source": [
        "Overall the second model (model with data balanced and removed features) performed the best. It had the best precision score with a slight reduction in the accuracy score compared to the other two models. "
      ],
      "metadata": {
        "id": "hbdPMEuduJI7"
      }
    },
    {
      "cell_type": "code",
      "source": [
        ""
      ],
      "metadata": {
        "id": "4xPyTBHLur6W"
      },
      "execution_count": 219,
      "outputs": []
    },
    {
      "cell_type": "code",
      "source": [
        ""
      ],
      "metadata": {
        "id": "8mVYK8DvutER"
      },
      "execution_count": 219,
      "outputs": []
    },
    {
      "cell_type": "markdown",
      "source": [
        "### XGBoost with Cross validation"
      ],
      "metadata": {
        "id": "WHkAIcS1usQQ"
      }
    },
    {
      "cell_type": "code",
      "source": [
        "from xgboost import cv\n",
        "dtrain_matrix = xgboost.DMatrix(x_train1, y_train1)\n",
        "params = {\"objective\":\"binary:logistic\",'colsample_bytree': 0.3,'learning_rate': 0.1,\n",
        "                'max_depth': 4, 'alpha': 10}\n",
        "\n",
        "xgb_cv = cv(dtrain=dtrain_matrix, params=params, nfold=3, num_boost_round=50, early_stopping_rounds=20, metrics=\"auc\", as_pandas=True, seed=35)\n",
        "\n",
        "xgboost.plot_importance(model_x1)\n",
        "plt.figure(figsize = (25, 20))\n",
        "plt.show()"
      ],
      "metadata": {
        "colab": {
          "base_uri": "https://localhost:8080/",
          "height": 314
        },
        "id": "OzNJKEQX5Gdz",
        "outputId": "a0b4d121-3e7a-4b31-8888-6a6652e94706"
      },
      "execution_count": 220,
      "outputs": [
        {
          "output_type": "display_data",
          "data": {
            "text/plain": [
              "<Figure size 432x288 with 1 Axes>"
            ],
            "image/png": "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\n"
          },
          "metadata": {
            "needs_background": "light"
          }
        },
        {
          "output_type": "display_data",
          "data": {
            "text/plain": [
              "<Figure size 1800x1440 with 0 Axes>"
            ]
          },
          "metadata": {}
        }
      ]
    },
    {
      "cell_type": "markdown",
      "source": [
        "By plotting for feautre importance, the 5 most important feautres are campaign, euribor3m, cons.conf.idx, previous, and poutcome. Removing other economic metrics may have influenced this result. Regardless banks should take into consideration these 5 features when predicting whether or not a client will subscribe to a term deposit. 
      ],
      "metadata": {
        "id": "LUaJPIwkyfrR"
      }
    },
    {
      "cell_type": "code",
      "source": [
        "xgb_cv.head()"
      ],
      "metadata": {
        "colab": {
          "base_uri": "https://localhost:8080/",
          "height": 206
        },
        "id": "sjWw4HbaHyDX",
        "outputId": "c646ed46-5948-499b-a370-da87852a91c7"
      },
      "execution_count": 221,
      "outputs": [
        {
          "output_type": "execute_result",
          "data": {
            "text/plain": [
              "   train-auc-mean  train-auc-std  test-auc-mean  test-auc-std\n",
              "0        0.799620       0.000377       0.799233      0.001103\n",
              "1        0.888303       0.007566       0.887904      0.007530\n",
              "2        0.888442       0.006856       0.887644      0.007197\n",
              "3        0.890022       0.007700       0.888812      0.007701\n",
              "4        0.897156       0.006198       0.896331      0.007620"
            ],
            "text/html": [
              "\n",
              "  <div id=\"df-7162beb2-7570-433f-8bfe-7beaa220b67c\">\n",
              "    <div class=\"colab-df-container\">\n",
              "      <div>\n",
              "<style scoped>\n",
              "    .dataframe tbody tr th:only-of-type {\n",
              "        vertical-align: middle;\n",
              "    }\n",
              "\n",
              "    .dataframe tbody tr th {\n",
              "        vertical-align: top;\n",
              "    }\n",
              "\n",
              "    .dataframe thead th {\n",
              "        text-align: right;\n",
              "    }\n",
              "</style>\n",
              "<table border=\"1\" class=\"dataframe\">\n",
              "  <thead>\n",
              "    <tr style=\"text-align: right;\">\n",
              "      <th></th>\n",
              "      <th>train-auc-mean</th>\n",
              "      <th>train-auc-std</th>\n",
              "      <th>test-auc-mean</th>\n",
              "      <th>test-auc-std</th>\n",
              "    </tr>\n",
              "  </thead>\n",
              "  <tbody>\n",
              "    <tr>\n",
              "      <th>0</th>\n",
              "      <td>0.799620</td>\n",
              "      <td>0.000377</td>\n",
              "      <td>0.799233</td>\n",
              "      <td>0.001103</td>\n",
              "    </tr>\n",
              "    <tr>\n",
              "      <th>1</th>\n",
              "      <td>0.888303</td>\n",
              "      <td>0.007566</td>\n",
              "      <td>0.887904</td>\n",
              "      <td>0.007530</td>\n",
              "    </tr>\n",
              "    <tr>\n",
              "      <th>2</th>\n",
              "      <td>0.888442</td>\n",
              "      <td>0.006856</td>\n",
              "      <td>0.887644</td>\n",
              "      <td>0.007197</td>\n",
              "    </tr>\n",
              "    <tr>\n",
              "      <th>3</th>\n",
              "      <td>0.890022</td>\n",
              "      <td>0.007700</td>\n",
              "      <td>0.888812</td>\n",
              "      <td>0.007701</td>\n",
              "    </tr>\n",
              "    <tr>\n",
              "      <th>4</th>\n",
              "      <td>0.897156</td>\n",
              "      <td>0.006198</td>\n",
              "      <td>0.896331</td>\n",
              "      <td>0.007620</td>\n",
              "    </tr>\n",
              "  </tbody>\n",
              "</table>\n",
              "</div>\n",
              "      <button class=\"colab-df-convert\" onclick=\"convertToInteractive('df-7162beb2-7570-433f-8bfe-7beaa220b67c')\"\n",
              "              title=\"Convert this dataframe to an interactive table.\"\n",
              "              style=\"display:none;\">\n",
              "        \n",
              "  <svg xmlns=\"http://www.w3.org/2000/svg\" height=\"24px\"viewBox=\"0 0 24 24\"\n",
              "       width=\"24px\">\n",
              "    <path d=\"M0 0h24v24H0V0z\" fill=\"none\"/>\n",
              "    <path d=\"M18.56 5.44l.94 2.06.94-2.06 2.06-.94-2.06-.94-.94-2.06-.94 2.06-2.06.94zm-11 1L8.5 8.5l.94-2.06 2.06-.94-2.06-.94L8.5 2.5l-.94 2.06-2.06.94zm10 10l.94 2.06.94-2.06 2.06-.94-2.06-.94-.94-2.06-.94 2.06-2.06.94z\"/><path d=\"M17.41 7.96l-1.37-1.37c-.4-.4-.92-.59-1.43-.59-.52 0-1.04.2-1.43.59L10.3 9.45l-7.72 7.72c-.78.78-.78 2.05 0 2.83L4 21.41c.39.39.9.59 1.41.59.51 0 1.02-.2 1.41-.59l7.78-7.78 2.81-2.81c.8-.78.8-2.07 0-2.86zM5.41 20L4 18.59l7.72-7.72 1.47 1.35L5.41 20z\"/>\n",
              "  </svg>\n",
              "      </button>\n",
              "      \n",
              "  <style>\n",
              "    .colab-df-container {\n",
              "      display:flex;\n",
              "      flex-wrap:wrap;\n",
              "      gap: 12px;\n",
              "    }\n",
              "\n",
              "    .colab-df-convert {\n",
              "      background-color: #E8F0FE;\n",
              "      border: none;\n",
              "      border-radius: 50%;\n",
              "      cursor: pointer;\n",
              "      display: none;\n",
              "      fill: #1967D2;\n",
              "      height: 32px;\n",
              "      padding: 0 0 0 0;\n",
              "      width: 32px;\n",
              "    }\n",
              "\n",
              "    .colab-df-convert:hover {\n",
              "      background-color: #E2EBFA;\n",
              "      box-shadow: 0px 1px 2px rgba(60, 64, 67, 0.3), 0px 1px 3px 1px rgba(60, 64, 67, 0.15);\n",
              "      fill: #174EA6;\n",
              "    }\n",
              "\n",
              "    [theme=dark] .colab-df-convert {\n",
              "      background-color: #3B4455;\n",
              "      fill: #D2E3FC;\n",
              "    }\n",
              "\n",
              "    [theme=dark] .colab-df-convert:hover {\n",
              "      background-color: #434B5C;\n",
              "      box-shadow: 0px 1px 3px 1px rgba(0, 0, 0, 0.15);\n",
              "      filter: drop-shadow(0px 1px 2px rgba(0, 0, 0, 0.3));\n",
              "      fill: #FFFFFF;\n",
              "    }\n",
              "  </style>\n",
              "\n",
              "      <script>\n",
              "        const buttonEl =\n",
              "          document.querySelector('#df-7162beb2-7570-433f-8bfe-7beaa220b67c button.colab-df-convert');\n",
              "        buttonEl.style.display =\n",
              "          google.colab.kernel.accessAllowed ? 'block' : 'none';\n",
              "\n",
              "        async function convertToInteractive(key) {\n",
              "          const element = document.querySelector('#df-7162beb2-7570-433f-8bfe-7beaa220b67c');\n",
              "          const dataTable =\n",
              "            await google.colab.kernel.invokeFunction('convertToInteractive',\n",
              "                                                     [key], {});\n",
              "          if (!dataTable) return;\n",
              "\n",
              "          const docLinkHtml = 'Like what you see? Visit the ' +\n",
              "            '<a target=\"_blank\" href=https://colab.research.google.com/notebooks/data_table.ipynb>data table notebook</a>'\n",
              "            + ' to learn more about interactive tables.';\n",
              "          element.innerHTML = '';\n",
              "          dataTable['output_type'] = 'display_data';\n",
              "          await google.colab.output.renderOutput(dataTable, element);\n",
              "          const docLink = document.createElement('div');\n",
              "          docLink.innerHTML = docLinkHtml;\n",
              "          element.appendChild(docLink);\n",
              "        }\n",
              "      </script>\n",
              "    </div>\n",
              "  </div>\n",
              "  "
            ]
          },
          "metadata": {},
          "execution_count": 221
        }
      ]
    },
    {
      "cell_type": "markdown",
      "source": [
        "Above our the results from the cross validation. The AUC for the 5 iterations was very good. "
      ],
      "metadata": {
        "id": "LZev8Go-yFQl"
      }
    },
    {
      "cell_type": "markdown",
      "source": [
        "### `XGBoost Hyperparemeter Optimization`"
      ],
      "metadata": {
        "id": "fBvSeEOUvE7B"
      }
    },
    {
      "cell_type": "code",
      "source": [
        "from xgboost import XGBClassifier\n",
        "from sklearn.model_selection import RandomizedSearchCV"
      ],
      "metadata": {
        "id": "trr-dfsdVqyM"
      },
      "execution_count": 222,
      "outputs": []
    },
    {
      "cell_type": "code",
      "source": [
        "parameters = {\n",
        " 'learning_rate' : [0.05,0.10,0.15,0.20,0.25,0.30,.35,.4],\n",
        " 'max_depth' : [ 3, 5, 7, 8,11 ,12, 13, 14, 15],\n",
        " 'min_child_weight' : [ 1,2, 3, 5],\n",
        " 'gamma': [ 0.0, 0.1, 0.2 , 0.3, 0.4,0.5,0.6],\n",
        " 'colsample_bytree' : [ 0.2, 0.3, 0.4, 0.5 , 0.7,.8,.9 ]\n",
        "}\n",
        "#updated parameters to reflect values more concentrated towards the params of the best estimator from the previous iteration"
      ],
      "metadata": {
        "id": "3uzIot54Vrp6"
      },
      "execution_count": 223,
      "outputs": []
    },
    {
      "cell_type": "code",
      "source": [
        "xg_class = xgboost.XGBClassifier() #creating instance"
      ],
      "metadata": {
        "id": "y_aKbBudXwB6"
      },
      "execution_count": 224,
      "outputs": []
    },
    {
      "cell_type": "markdown",
      "source": [
        "I chose to use RandomizedSearchCV instead of GridSearchCV because GridSearchCV is too computationally demanding and they both generally attain similar results. "
      ],
      "metadata": {
        "id": "a0BjPpaUztvJ"
      }
    },
    {
      "cell_type": "code",
      "source": [
        "xgr_model=RandomizedSearchCV(xg_class,param_distributions=parameters,n_iter=5,scoring='roc_auc',n_jobs=-1,cv=5,verbose=3) #perfroming randomized search cross validation "
      ],
      "metadata": {
        "id": "BpoHjzS1Vrk4"
      },
      "execution_count": 225,
      "outputs": []
    },
    {
      "cell_type": "code",
      "source": [
        "xgr_model.fit(x_train1,y_train1)"
      ],
      "metadata": {
        "colab": {
          "base_uri": "https://localhost:8080/"
        },
        "id": "GMQSGb7YVrdi",
        "outputId": "d1d4b33b-8b58-46ad-c5cc-b6414ecf8864"
      },
      "execution_count": 226,
      "outputs": [
        {
          "output_type": "stream",
          "name": "stdout",
          "text": [
            "Fitting 5 folds for each of 5 candidates, totalling 25 fits\n"
          ]
        },
        {
          "output_type": "execute_result",
          "data": {
            "text/plain": [
              "RandomizedSearchCV(cv=5, estimator=XGBClassifier(), n_iter=5, n_jobs=-1,\n",
              "                   param_distributions={'colsample_bytree': [0.2, 0.3, 0.4, 0.5,\n",
              "                                                             0.7, 0.8, 0.9],\n",
              "                                        'gamma': [0.0, 0.1, 0.2, 0.3, 0.4, 0.5,\n",
              "                                                  0.6],\n",
              "                                        'learning_rate': [0.05, 0.1, 0.15, 0.2,\n",
              "                                                          0.25, 0.3, 0.35,\n",
              "                                                          0.4],\n",
              "                                        'max_depth': [3, 5, 7, 8, 11, 12, 13,\n",
              "                                                      14, 15],\n",
              "                                        'min_child_weight': [1, 2, 3, 5]},\n",
              "                   scoring='roc_auc', verbose=3)"
            ]
          },
          "metadata": {},
          "execution_count": 226
        }
      ]
    },
    {
      "cell_type": "code",
      "source": [
        "xgr_model.best_params_  #best mmodel parameters"
      ],
      "metadata": {
        "colab": {
          "base_uri": "https://localhost:8080/"
        },
        "id": "SsY5Q4zzVrbq",
        "outputId": "8405baf4-ec26-4798-f38c-496dc032ad8e"
      },
      "execution_count": 227,
      "outputs": [
        {
          "output_type": "execute_result",
          "data": {
            "text/plain": [
              "{'colsample_bytree': 0.8,\n",
              " 'gamma': 0.5,\n",
              " 'learning_rate': 0.15,\n",
              " 'max_depth': 14,\n",
              " 'min_child_weight': 3}"
            ]
          },
          "metadata": {},
          "execution_count": 227
        }
      ]
    },
    {
      "cell_type": "code",
      "source": [
        "xg_final_class = xgboost.XGBClassifier(colsample_bytree= 0.7, gamma= 0.4, learning_rate = 0.25, max_depth = 12, min_child_weight = 1)"
      ],
      "metadata": {
        "id": "f_Ou9sMOVrZH"
      },
      "execution_count": 228,
      "outputs": []
    },
    {
      "cell_type": "markdown",
      "source": [
        "# Results and Analysis\n"
      ],
      "metadata": {
        "id": "RAxV9G8I-TDR"
      }
    },
    {
      "cell_type": "code",
      "source": [
        "from sklearn.model_selection import cross_val_score\n",
        "score=cross_val_score(xg_final_class,x_test,y_test,cv=10) #getting accuracy score from model with tuned hyperparameters using cross validation\n",
        "auc =cross_val_score(xg_final_class,x_test,y_test,cv=10, scoring = 'roc_auc')#getting roc_auc (area under the receiver operator curve) score from model with tuned hyperparameters using cross validation"
      ],
      "metadata": {
        "id": "510u_RL5-WrB"
      },
      "execution_count": 229,
      "outputs": []
    },
    {
      "cell_type": "code",
      "source": [
        "\n",
        "print(score)\n",
        "print(auc)\n",
        "data = [score, auc]\n",
        "fig, ax = plt.subplots()\n",
        "ax.boxplot(score)\n",
        "plt.title(\"Accuracy Scores\")\n",
        "plt.show\n",
        "fig1, ax1 = plt.subplots()\n",
        "ax1.boxplot(auc)\n",
        "plt.title(\"AUC-ROC Scores\")\n",
        "plt.show"
      ],
      "metadata": {
        "colab": {
          "base_uri": "https://localhost:8080/",
          "height": 639
        },
        "id": "bh5_7XWjhT25",
        "outputId": "e9e54e88-2566-45c4-aadb-c49fe65207ab"
      },
      "execution_count": 230,
      "outputs": [
        {
          "output_type": "stream",
          "name": "stdout",
          "text": [
            "[0.88470874 0.89927184 0.89563107 0.88106796 0.88592233 0.88713592\n",
            " 0.89320388 0.88228155 0.88821385 0.88578372]\n",
            "[0.73229201 0.79890526 0.73063997 0.76668699 0.7595967  0.765588\n",
            " 0.75495966 0.76532566 0.70960855 0.77928702]\n"
          ]
        },
        {
          "output_type": "execute_result",
          "data": {
            "text/plain": [
              "<function matplotlib.pyplot.show>"
            ]
          },
          "metadata": {},
          "execution_count": 230
        },
        {
          "output_type": "display_data",
          "data": {
            "text/plain": [
              "<Figure size 432x288 with 1 Axes>"
            ],
            "image/png": "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\n"
          },
          "metadata": {
            "needs_background": "light"
          }
        },
        {
          "output_type": "display_data",
          "data": {
            "text/plain": [
              "<Figure size 432x288 with 1 Axes>"
            ],
            "image/png": "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\n"
          },
          "metadata": {
            "needs_background": "light"
          }
        }
      ]
    },
    {
      "cell_type": "markdown",
      "source": [
        "The accuracy scores attained by the tuned model are better than all of the models tested previously. Overall I am very content with my result. "
      ],
      "metadata": {
        "id": "rOM33Jpv2rmu"
      }
    },
    {
      "cell_type": "markdown",
      "source": [
        "# Discussion and Conclusion"
      ],
      "metadata": {
        "id": "EsozclVg_zxZ"
      }
    },
    {
      "cell_type": "markdown",
      "source": [
        "I learned a lot through my first data science project. There are significantly more factors to account for that go beyond just implementing functions. I did not have the strongest grasp of some of the economic indicators. As a result my final model may not have performed as well as I would have liked. Domain knowledge is very important for optmizing model performance and understanding the results. To help bridge this information gap I will spend some time developing a solid understanding of economics. I also did not realize that I had to balance the training data prior to this project. My initial model performed worse because of this. To improve my models in the future, I will make sure to use to autotuning for hyperparemter optimization. Optimizing the hyperparameters of an algorithm such as XGBoost through brute force is extremely inefficent and computationally expensive. I tried using randomsearchcv and cv functions but don't think I understood the functions well enough under the hood to implement them well.  Another issue I ran into was my results were not reproducible because I didn't set a seed the first few times I ran my model. Even tasks as simplisitc as setting a random seed can become complex in the convoluted nature of model building for the first time. I also plan on researching more methods for normalization, standardization, correcting data imbalances, and other best coding practices. I am very content with my results but realize the metrics I attained may not apply to real-world scenarios since I could have had errors in my organization that would lead to data leakage and overfitting. "
      ],
      "metadata": {
        "id": "J87np-u9_5Hn"
      }
    },
    {
      "cell_type": "code",
      "source": [
        ""
      ],
      "metadata": {
        "id": "_slf_YFs_3k5"
      },
      "execution_count": 230,
      "outputs": []
    }
  ]
}
